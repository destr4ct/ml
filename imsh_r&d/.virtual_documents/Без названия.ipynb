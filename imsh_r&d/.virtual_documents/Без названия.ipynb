import pandas as pd

df = pd.read_csv('https://stepik.org/media/attachments/lesson/681964/2_2_14.csv')

# В ans содержится правильный ответ. Перед отправкой своего решения, сравнитесь с ним.
ans = pd.read_csv('https://stepik.org/media/attachments/lesson/681964/2_2_14_ans.csv', index_col=0)


# t1
mean_rating = df.car_rating.mean()
df['car_rating'] += 1
df['year_to_work'] += 1
df = df.query('car_rating > @mean_rating')
df['year_to_work'] = df.year_to_work.map(lambda x: x + 2 if x < 2017 else x//5)
df = df.rename(columns={'year_to_start': 'new_year_to_start'}).drop(columns='fuel_type', errors='ignore')
df['car_type'] = 'super_' + df.car_type


# t2
def flag(r):
    if r.rating > 5 and r.speed_max < 100:
        return 'good_line'
    return 'undefined'


def speed_check(r):
    if r.distance/r.ride_duration > r.speed_avg:
        return 'avg_more'
    return 'avg_less'


df['flag'] = df.apply(flag, axis=1)
df['speed_check'] = df.apply(speed_check, axis=1)
df.drop(columns=cols2drop, inplace=True, errors='ignore')
df = df[~df.car_id.isna()]


df['nans_num'] = df.isna().sum(axis=1)
df = df.query('nans_num <= 2')
df = df.dropna(subset=['age'])
df['user_time_accident'] = df.user_time_accident.fillna(df.user_time_accident.median())
result = df[['age', 'user_rides', 'user_time_accident']].copy()



