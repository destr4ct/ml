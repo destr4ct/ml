import numpy as np
import pandas as pd
import matplotlib.pyplot as plt


X = np.linspace(-5, 5, 400)

# Create sample curve with noise
y = -X**2
y = y + np.random.normal(X.mean(), X.std()/2, len(X))

df = pd.DataFrame({
    'X': X,
    'y': y
})
df.head()


# Create momentum
beta = 0.7

df['beta_S'] = (1-beta)*y
df['V'] = df.beta_S
df.loc[0, 'V'] = df.y[0]

for i in range(len(df)-1):
    df.loc[i+1, 'V'] += beta*df.loc[i, 'V']


plt.scatter(df.X, df.y, s=2, label='y')
plt.plot(df.X, df.V, color='red', label='momentum')

plt.legend()
plt.show()



