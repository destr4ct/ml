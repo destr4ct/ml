import pandas as pd
import seaborn as sns
from pathlib import Path
import matplotlib.pyplot as plt


ds_path = Path('./data')


df_train = pd.read_csv(ds_path/'car_train.csv')
df_driver_info = pd.read_csv(ds_path/'driver_info.csv')
df_fix_info = pd.read_csv(ds_path/'fix_info.csv')
df_rides_info = pd.read_csv(ds_path/'rides_info.csv')


print(df_train.car_id.nunique())
df_train.head(3)


df_fix_info


sns.displot



