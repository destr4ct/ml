{
  "nbformat": 4,
  "nbformat_minor": 0,
  "metadata": {
    "colab": {
      "provenance": []
    },
    "kernelspec": {
      "name": "python3",
      "display_name": "Python 3"
    },
    "language_info": {
      "name": "python"
    }
  },
  "cells": [
    {
      "cell_type": "code",
      "source": [
        "import numpy as np\n",
        "import matplotlib.pyplot as plt\n",
        "import seaborn as sns\n",
        "import pandas as pd\n",
        "from sklearn.datasets import make_classification\n",
        "import warnings\n",
        "\n",
        "\n",
        "warnings.simplefilter(\"ignore\")"
      ],
      "metadata": {
        "id": "A2S9fvtdGu7Z"
      },
      "execution_count": 2,
      "outputs": []
    },
    {
      "cell_type": "code",
      "source": [
        "seed = 21"
      ],
      "metadata": {
        "id": "kwCisMCVJz1p"
      },
      "execution_count": 3,
      "outputs": []
    },
    {
      "cell_type": "code",
      "source": [
        "X, y = make_classification(n_features=2, n_classes=2, n_redundant=0, random_state=seed, shuffle=True)\n",
        "df = pd.DataFrame(np.concatenate([X, y.reshape(-1, 1)], axis=1), columns=['f1', 'f2', 'target'])\n",
        "df.head(3)"
      ],
      "metadata": {
        "colab": {
          "base_uri": "https://localhost:8080/",
          "height": 143
        },
        "id": "97MBEggNHtR4",
        "outputId": "4e0d8518-650b-488b-ed42-845ee2550f5e"
      },
      "execution_count": 4,
      "outputs": [
        {
          "output_type": "execute_result",
          "data": {
            "text/plain": [
              "         f1        f2  target\n",
              "0  0.062020 -1.566943     0.0\n",
              "1 -1.902629 -0.056498     1.0\n",
              "2 -1.779908 -0.190826     0.0"
            ],
            "text/html": [
              "\n",
              "  <div id=\"df-2e7d0818-6642-46eb-8769-fa3373c57e63\">\n",
              "    <div class=\"colab-df-container\">\n",
              "      <div>\n",
              "<style scoped>\n",
              "    .dataframe tbody tr th:only-of-type {\n",
              "        vertical-align: middle;\n",
              "    }\n",
              "\n",
              "    .dataframe tbody tr th {\n",
              "        vertical-align: top;\n",
              "    }\n",
              "\n",
              "    .dataframe thead th {\n",
              "        text-align: right;\n",
              "    }\n",
              "</style>\n",
              "<table border=\"1\" class=\"dataframe\">\n",
              "  <thead>\n",
              "    <tr style=\"text-align: right;\">\n",
              "      <th></th>\n",
              "      <th>f1</th>\n",
              "      <th>f2</th>\n",
              "      <th>target</th>\n",
              "    </tr>\n",
              "  </thead>\n",
              "  <tbody>\n",
              "    <tr>\n",
              "      <th>0</th>\n",
              "      <td>0.062020</td>\n",
              "      <td>-1.566943</td>\n",
              "      <td>0.0</td>\n",
              "    </tr>\n",
              "    <tr>\n",
              "      <th>1</th>\n",
              "      <td>-1.902629</td>\n",
              "      <td>-0.056498</td>\n",
              "      <td>1.0</td>\n",
              "    </tr>\n",
              "    <tr>\n",
              "      <th>2</th>\n",
              "      <td>-1.779908</td>\n",
              "      <td>-0.190826</td>\n",
              "      <td>0.0</td>\n",
              "    </tr>\n",
              "  </tbody>\n",
              "</table>\n",
              "</div>\n",
              "      <button class=\"colab-df-convert\" onclick=\"convertToInteractive('df-2e7d0818-6642-46eb-8769-fa3373c57e63')\"\n",
              "              title=\"Convert this dataframe to an interactive table.\"\n",
              "              style=\"display:none;\">\n",
              "        \n",
              "  <svg xmlns=\"http://www.w3.org/2000/svg\" height=\"24px\"viewBox=\"0 0 24 24\"\n",
              "       width=\"24px\">\n",
              "    <path d=\"M0 0h24v24H0V0z\" fill=\"none\"/>\n",
              "    <path d=\"M18.56 5.44l.94 2.06.94-2.06 2.06-.94-2.06-.94-.94-2.06-.94 2.06-2.06.94zm-11 1L8.5 8.5l.94-2.06 2.06-.94-2.06-.94L8.5 2.5l-.94 2.06-2.06.94zm10 10l.94 2.06.94-2.06 2.06-.94-2.06-.94-.94-2.06-.94 2.06-2.06.94z\"/><path d=\"M17.41 7.96l-1.37-1.37c-.4-.4-.92-.59-1.43-.59-.52 0-1.04.2-1.43.59L10.3 9.45l-7.72 7.72c-.78.78-.78 2.05 0 2.83L4 21.41c.39.39.9.59 1.41.59.51 0 1.02-.2 1.41-.59l7.78-7.78 2.81-2.81c.8-.78.8-2.07 0-2.86zM5.41 20L4 18.59l7.72-7.72 1.47 1.35L5.41 20z\"/>\n",
              "  </svg>\n",
              "      </button>\n",
              "      \n",
              "  <style>\n",
              "    .colab-df-container {\n",
              "      display:flex;\n",
              "      flex-wrap:wrap;\n",
              "      gap: 12px;\n",
              "    }\n",
              "\n",
              "    .colab-df-convert {\n",
              "      background-color: #E8F0FE;\n",
              "      border: none;\n",
              "      border-radius: 50%;\n",
              "      cursor: pointer;\n",
              "      display: none;\n",
              "      fill: #1967D2;\n",
              "      height: 32px;\n",
              "      padding: 0 0 0 0;\n",
              "      width: 32px;\n",
              "    }\n",
              "\n",
              "    .colab-df-convert:hover {\n",
              "      background-color: #E2EBFA;\n",
              "      box-shadow: 0px 1px 2px rgba(60, 64, 67, 0.3), 0px 1px 3px 1px rgba(60, 64, 67, 0.15);\n",
              "      fill: #174EA6;\n",
              "    }\n",
              "\n",
              "    [theme=dark] .colab-df-convert {\n",
              "      background-color: #3B4455;\n",
              "      fill: #D2E3FC;\n",
              "    }\n",
              "\n",
              "    [theme=dark] .colab-df-convert:hover {\n",
              "      background-color: #434B5C;\n",
              "      box-shadow: 0px 1px 3px 1px rgba(0, 0, 0, 0.15);\n",
              "      filter: drop-shadow(0px 1px 2px rgba(0, 0, 0, 0.3));\n",
              "      fill: #FFFFFF;\n",
              "    }\n",
              "  </style>\n",
              "\n",
              "      <script>\n",
              "        const buttonEl =\n",
              "          document.querySelector('#df-2e7d0818-6642-46eb-8769-fa3373c57e63 button.colab-df-convert');\n",
              "        buttonEl.style.display =\n",
              "          google.colab.kernel.accessAllowed ? 'block' : 'none';\n",
              "\n",
              "        async function convertToInteractive(key) {\n",
              "          const element = document.querySelector('#df-2e7d0818-6642-46eb-8769-fa3373c57e63');\n",
              "          const dataTable =\n",
              "            await google.colab.kernel.invokeFunction('convertToInteractive',\n",
              "                                                     [key], {});\n",
              "          if (!dataTable) return;\n",
              "\n",
              "          const docLinkHtml = 'Like what you see? Visit the ' +\n",
              "            '<a target=\"_blank\" href=https://colab.research.google.com/notebooks/data_table.ipynb>data table notebook</a>'\n",
              "            + ' to learn more about interactive tables.';\n",
              "          element.innerHTML = '';\n",
              "          dataTable['output_type'] = 'display_data';\n",
              "          await google.colab.output.renderOutput(dataTable, element);\n",
              "          const docLink = document.createElement('div');\n",
              "          docLink.innerHTML = docLinkHtml;\n",
              "          element.appendChild(docLink);\n",
              "        }\n",
              "      </script>\n",
              "    </div>\n",
              "  </div>\n",
              "  "
            ]
          },
          "metadata": {},
          "execution_count": 4
        }
      ]
    },
    {
      "cell_type": "code",
      "source": [
        "#def kmeans(d):\n",
        "  # Выбираем случайные точки\n",
        "\n",
        "k = 2\n",
        "\n",
        "def euclidean_dist(center, X):\n",
        "  # корень суммы квадратов разности Centeri Xi\n",
        "  return np.sum((X - center)**2)**0.5\n",
        "\n",
        "def sigm(X):\n",
        "  return 1 / (1 + np.exp(-1 * X))\n",
        "\n",
        "# убогий kmeans++\n",
        "def pick_random_centers(df, k=2):\n",
        "  data = df.copy(True).iloc[:, :-1]\n",
        "  idx = np.random.randint(0, len(data))\n",
        "\n",
        "  centers = []\n",
        "  s_center = data.iloc[idx, :]\n",
        "  data.drop(idx, inplace=True)\n",
        "\n",
        "  for i in range(k - 1):\n",
        "    # считаем расстояние от каждой точки до верхнего центра для обозначения вероятностей\n",
        "    new_dist = []\n",
        "    for X_point in data.values:\n",
        "      X_point_dist = euclidean_dist(s_center, X_point)\n",
        "      new_dist.append(X_point_dist)\n",
        "\n",
        "\n",
        "    # посчитаем вероятность выбора нового центра полагаясь на расстояние от базового центра\n",
        "    data['dist'] = new_dist\n",
        "    s = data.dist.sum()\n",
        "    data['dist'] = data.dist / s\n",
        "\n",
        "    # выбираем центр\n",
        "    new_idx = np.random.choice(data.index, p=data.dist)\n",
        "    if 'dist' in s_center:\n",
        "      s_center.drop('dist', inplace=True)\n",
        "    centers.append(s_center.values)\n",
        "\n",
        "    s_center = data.iloc[new_idx, :]\n",
        "    data.drop(new_idx, inplace=True)\n",
        "\n",
        "  if 'dist' in s_center:\n",
        "    s_center.drop('dist', inplace=True)\n",
        "  centers.append(s_center.values)\n",
        "\n",
        "  return np.array(centers)\n",
        "\n",
        "def plot_centers(df, centers):\n",
        "  fig, ax = plt.subplots()\n",
        "\n",
        "  g = sns.scatterplot(\n",
        "    data=df,\n",
        "    x='f1',\n",
        "    y='f2',\n",
        "    hue='target',\n",
        "\n",
        "    ax=ax\n",
        "  )\n",
        "  ax.scatter(centers[:, 0], centers[:, 1], color='red')\n",
        "  g.set_title('Dataset overview')\n",
        "  plt.show()\n",
        "\n",
        "class Kmeans:\n",
        "  def __init__(self, centers):\n",
        "    self.centers = centers\n",
        "  \n",
        "  def fit_predict(self, data):\n",
        "    pass\n"
      ],
      "metadata": {
        "id": "vbI1nQKgKFud"
      },
      "execution_count": 5,
      "outputs": []
    },
    {
      "cell_type": "code",
      "source": [
        "centers = pick_random_centers(df, k=2)\n",
        "print(centers)\n",
        "plot_centers(df, centers)"
      ],
      "metadata": {
        "colab": {
          "base_uri": "https://localhost:8080/",
          "height": 331
        },
        "id": "P62uHrHPKmxu",
        "outputId": "c4df6f43-0245-405b-876c-d46fa54c8373"
      },
      "execution_count": 9,
      "outputs": [
        {
          "output_type": "stream",
          "name": "stdout",
          "text": [
            "[[ 2.38147372  1.98909013]\n",
            " [-1.3898968  -0.45928333]]\n"
          ]
        },
        {
          "output_type": "display_data",
          "data": {
            "text/plain": [
              "<Figure size 432x288 with 1 Axes>"
            ],
            "image/png": "[encoded data removed]"
          },
          "metadata": {
            "needs_background": "light"
          }
        }
      ]
    },
    {
      "cell_type": "code",
      "source": [],
      "metadata": {
        "id": "0EBEfv1qPHJW"
      },
      "execution_count": null,
      "outputs": []
    }
  ]
}