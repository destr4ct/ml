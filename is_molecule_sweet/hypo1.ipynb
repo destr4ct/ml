{
 "cells": [
  {
   "cell_type": "code",
   "execution_count": 1,
   "id": "4bec7cbb-0b11-4384-a9ac-c1881a3c0861",
   "metadata": {},
   "outputs": [],
   "source": [
    "import re\n",
    "import numpy as np\n",
    "import pandas as pd\n",
    "import seaborn as sns\n",
    "from rdkit import Chem\n",
    "from pathlib import Path\n",
    "import matplotlib.pyplot as plt\n",
    "\n",
    "from rdkit import RDLogger\n",
    "from rdkit.Chem.rdMolDescriptors import CalcMolFormula, CalcAsphericity\n",
    "from rdkit.Chem.Descriptors import ExactMolWt, NumValenceElectrons\n",
    "\n",
    "from sklearn.pipeline import Pipeline\n",
    "from sklearn.compose import ColumnTransformer\n",
    "from sklearn.impute import SimpleImputer\n",
    "from sklearn.preprocessing import StandardScaler\n",
    "from sklearn.model_selection import train_test_split, GridSearchCV, KFold\n",
    "\n",
    "from sklearn.metrics import f1_score, roc_auc_score, accuracy_score\n",
    "\n",
    "from xgboost import XGBClassifier\n",
    "from catboost import CatBoostClassifier"
   ]
  },
  {
   "cell_type": "code",
   "execution_count": 2,
   "id": "171e2eee-77ab-4b49-a2a0-ec074153d4d0",
   "metadata": {},
   "outputs": [],
   "source": [
    "RDLogger.DisableLog('rdApp.*')\n",
    "pd.set_option('display.max_columns', 20)"
   ]
  },
  {
   "cell_type": "code",
   "execution_count": 3,
   "id": "0a06ce33-810a-4301-a959-beaf39d551bf",
   "metadata": {},
   "outputs": [],
   "source": [
    "path = Path('./data')\n",
    "sub_path = Path('./sub')\n",
    "seed = 21"
   ]
  },
  {
   "cell_type": "markdown",
   "id": "5fc4665f-16ad-4633-85c2-bed495998c3d",
   "metadata": {},
   "source": [
    "### Loading the datasets"
   ]
  },
  {
   "cell_type": "code",
   "execution_count": 4,
   "id": "541616fa-791a-44b0-847b-d82852b9b4d6",
   "metadata": {},
   "outputs": [
    {
     "data": {
      "text/html": [
       "<div>\n",
       "<style scoped>\n",
       "    .dataframe tbody tr th:only-of-type {\n",
       "        vertical-align: middle;\n",
       "    }\n",
       "\n",
       "    .dataframe tbody tr th {\n",
       "        vertical-align: top;\n",
       "    }\n",
       "\n",
       "    .dataframe thead th {\n",
       "        text-align: right;\n",
       "    }\n",
       "</style>\n",
       "<table border=\"1\" class=\"dataframe\">\n",
       "  <thead>\n",
       "    <tr style=\"text-align: right;\">\n",
       "      <th></th>\n",
       "      <th>SMILES</th>\n",
       "      <th>Canonical SMILES</th>\n",
       "      <th>Sweet</th>\n",
       "    </tr>\n",
       "  </thead>\n",
       "  <tbody>\n",
       "    <tr>\n",
       "      <th>0</th>\n",
       "      <td>OCC1OC(C(C1O)O)(CO)OC1OC(CO)C(C(C1O)O)O</td>\n",
       "      <td>OCC1OC(C(C1O)O)(CO)OC1OC(CO)C(C(C1O)O)O</td>\n",
       "      <td>1</td>\n",
       "    </tr>\n",
       "    <tr>\n",
       "      <th>1</th>\n",
       "      <td>ClCC1OC(C(C1O)O)(CCl)OC1OC(CO)C(C(C1O)O)Cl</td>\n",
       "      <td>ClCC1OC(C(C1O)O)(CCl)OC1OC(CO)C(C(C1O)O)Cl</td>\n",
       "      <td>1</td>\n",
       "    </tr>\n",
       "    <tr>\n",
       "      <th>2</th>\n",
       "      <td>COC(=O)C(NC(=O)C(CC(=O)O)N)Cc1ccccc1</td>\n",
       "      <td>COC(=O)C(NC(=O)C(CC(=O)O)N)Cc1ccccc1</td>\n",
       "      <td>1</td>\n",
       "    </tr>\n",
       "  </tbody>\n",
       "</table>\n",
       "</div>"
      ],
      "text/plain": [
       "                                       SMILES  \\\n",
       "0     OCC1OC(C(C1O)O)(CO)OC1OC(CO)C(C(C1O)O)O   \n",
       "1  ClCC1OC(C(C1O)O)(CCl)OC1OC(CO)C(C(C1O)O)Cl   \n",
       "2        COC(=O)C(NC(=O)C(CC(=O)O)N)Cc1ccccc1   \n",
       "\n",
       "                             Canonical SMILES  Sweet  \n",
       "0     OCC1OC(C(C1O)O)(CO)OC1OC(CO)C(C(C1O)O)O      1  \n",
       "1  ClCC1OC(C(C1O)O)(CCl)OC1OC(CO)C(C(C1O)O)Cl      1  \n",
       "2        COC(=O)C(NC(=O)C(CC(=O)O)N)Cc1ccccc1      1  "
      ]
     },
     "execution_count": 4,
     "metadata": {},
     "output_type": "execute_result"
    }
   ],
   "source": [
    "# A lot of molecules...\n",
    "df_train = pd.read_csv(path/'train.csv').drop(columns='ID')\n",
    "df_train.Sweet = df_train.Sweet.astype(int)\n",
    "\n",
    "df_test = pd.read_csv(path/'test.csv')\n",
    "\n",
    "df_train.head(3)"
   ]
  },
  {
   "cell_type": "code",
   "execution_count": 5,
   "id": "f05ad574-fbe8-491a-a990-c6988408206d",
   "metadata": {},
   "outputs": [
    {
     "data": {
      "text/plain": [
       "(array([0, 0, 0]), 0)"
      ]
     },
     "execution_count": 5,
     "metadata": {},
     "output_type": "execute_result"
    }
   ],
   "source": [
    "# Check the nans/duplicates\n",
    "df_train.isna().sum().values, df_train.duplicated().sum()"
   ]
  },
  {
   "cell_type": "code",
   "execution_count": 6,
   "id": "aec0ac7c-713c-4069-9d39-cef48678a6b0",
   "metadata": {},
   "outputs": [
    {
     "data": {
      "text/plain": [
       "1    1139\n",
       "0    1066\n",
       "Name: Sweet, dtype: int64"
      ]
     },
     "execution_count": 6,
     "metadata": {},
     "output_type": "execute_result"
    }
   ],
   "source": [
    "# Our datasets is balanced!\n",
    "df_train.Sweet.value_counts()"
   ]
  },
  {
   "cell_type": "markdown",
   "id": "bb72da47-7042-4aa4-b5e2-916b59527d20",
   "metadata": {},
   "source": [
    "### Let's check what element we have in our molecules"
   ]
  },
  {
   "cell_type": "code",
   "execution_count": 7,
   "id": "166c85c7-4a71-4a87-a231-41a3cb34fb98",
   "metadata": {},
   "outputs": [],
   "source": [
    "# concatenate for comfort\n",
    "df_mol = pd.concat([df_train.iloc[:, :2], df_test], ignore_index=True).copy(True)\n",
    "df_mol.sort_index(inplace=True)"
   ]
  },
  {
   "cell_type": "code",
   "execution_count": 8,
   "id": "ef88d1ad-0247-4f12-833b-dea8642094e8",
   "metadata": {},
   "outputs": [
    {
     "data": {
      "text/plain": [
       "['Zn',\n",
       " 'Ag',\n",
       " 'Si',\n",
       " 'Hg',\n",
       " 'Mg',\n",
       " 'O',\n",
       " 'Ar',\n",
       " 'Pb',\n",
       " 'Ti',\n",
       " 'H',\n",
       " 'P',\n",
       " 'Ne',\n",
       " 'K',\n",
       " 'As',\n",
       " 'Ba',\n",
       " 'He',\n",
       " 'Bi',\n",
       " 'Sr',\n",
       " 'Br',\n",
       " 'N',\n",
       " 'Cl',\n",
       " 'C',\n",
       " 'Ca',\n",
       " 'S',\n",
       " 'Fe',\n",
       " 'Na',\n",
       " 'Rn',\n",
       " 'F',\n",
       " 'I',\n",
       " 'Li']"
      ]
     },
     "execution_count": 8,
     "metadata": {},
     "output_type": "execute_result"
    }
   ],
   "source": [
    "mols = df_mol.SMILES.apply(Chem.MolFromSmiles).values\n",
    "#a = [[atom.GetSymbol() for atom in mol.GetAtoms()] for mol in mols if mols is not None]\n",
    "\n",
    "symbols = set()\n",
    "for mol in mols:\n",
    "    if mol is None:\n",
    "        continue\n",
    "    \n",
    "    for atom in mol.GetAtoms():\n",
    "        symbols.add(atom.GetSymbol())\n",
    "\n",
    "symbols = list(symbols)\n",
    "symbols ### mmm, Zn...."
   ]
  },
  {
   "cell_type": "code",
   "execution_count": 9,
   "id": "349d92d0-44b2-489c-b840-3a2617eeeb24",
   "metadata": {},
   "outputs": [
    {
     "data": {
      "text/plain": [
       "['C', '12', 'H', '22', 'O', '11']"
      ]
     },
     "execution_count": 9,
     "metadata": {},
     "output_type": "execute_result"
    }
   ],
   "source": [
    "re.findall(r'[A-Z][a-z]*|\\d+', re.sub('[A-Z][a-z]*(?![\\da-z])', r'\\g<0>1', 'C12H22O11'))"
   ]
  },
  {
   "cell_type": "markdown",
   "id": "4d21f55b-7605-409a-bf37-94d64108d97b",
   "metadata": {},
   "source": [
    "### Enhancing the dataset with new features"
   ]
  },
  {
   "cell_type": "markdown",
   "id": "2e713df1-8ebc-46e8-8d87-e5ccd68d425b",
   "metadata": {},
   "source": [
    "#### Add \"count of atoms\", \"count of valence electrons\", \"count of aromatic atoms\" features"
   ]
  },
  {
   "cell_type": "code",
   "execution_count": 10,
   "id": "9b096010-400c-46ff-9b1d-306def1fbb59",
   "metadata": {},
   "outputs": [],
   "source": [
    "ext_f = []"
   ]
  },
  {
   "cell_type": "code",
   "execution_count": 11,
   "id": "91288169-ea11-4ca6-9056-1a68ba72577d",
   "metadata": {},
   "outputs": [],
   "source": [
    "def get_atoms_count(formula: str):\n",
    "    global symbols, sym_re\n",
    "    \n",
    "    stats = {el: 0 for el in symbols}\n",
    "    sym_data = re.findall(r'[A-Z][a-z]*|\\d+', re.sub('[A-Z][a-z]*(?![\\da-z])', r'\\g<0>1', formula))\n",
    "    sym_data = [s for s in sym_data if s != '']\n",
    "    \n",
    "    l = len(sym_data)\n",
    "    \n",
    "    for i in range(0, l, 2):\n",
    "        if i + 1 >= l:\n",
    "            sym_data.append('1')\n",
    "            \n",
    "        stats[sym_data[i]] = int(sym_data[i+1])\n",
    "    df = pd.DataFrame(stats, index=[0])\n",
    "    df.columns = df.columns + '_count'\n",
    "    return df.iloc[0, :]\n",
    "\n",
    "def extend_dataset_with_atom_counts(df):\n",
    "    df = df.copy(True)\n",
    "    \n",
    "    # Create formulae\n",
    "    mols = df.SMILES.apply(Chem.MolFromSmiles).dropna()\n",
    "    \n",
    "    formulas = mols.map(CalcMolFormula) \n",
    "    valence_electrons = mols.map(NumValenceElectrons)\n",
    "    aromatic = mols.map(lambda x: x.GetAromaticAtoms()).map(len)\n",
    "    \n",
    "    df['formula'] = formulas\n",
    "    df['valence_electrons'] = valence_electrons\n",
    "    df['aromatic_atoms_count'] = aromatic\n",
    "    \n",
    "    df['formula'].fillna('', inplace=True)\n",
    "    df['valence_electrons'].fillna(df.valence_electrons, inplace=True)\n",
    "    \n",
    "    # Add element counts\n",
    "    df_train_ext = df.formula.apply(get_atoms_count) #.iloc[:, :-1]\n",
    "    \n",
    "    return pd.concat([df, df_train_ext], axis=1)\n",
    "\n",
    "ext_f.append(extend_dataset_with_atom_counts)"
   ]
  },
  {
   "cell_type": "markdown",
   "id": "30799093-233c-4423-9fa1-474b27420621",
   "metadata": {},
   "source": [
    "#### Add weight feature"
   ]
  },
  {
   "cell_type": "code",
   "execution_count": 12,
   "id": "ad980a40-a56c-4cbf-a690-93aa990cd36c",
   "metadata": {},
   "outputs": [],
   "source": [
    "def extend_dataset_with_mol_weights(df):\n",
    "    df = df.copy(True)\n",
    "    \n",
    "    weights = df.SMILES.apply(Chem.MolFromSmiles).dropna().map(ExactMolWt)\n",
    "    df['weight'] = weights\n",
    "    df.weight.fillna(df.weight.mean(), inplace=True)\n",
    "    \n",
    "    return df\n",
    "\n",
    "ext_f.append(extend_dataset_with_mol_weights)\n",
    "\n",
    "def ext_pipeline(df, ext_f):\n",
    "    for f in ext_f:\n",
    "        df = f(df)\n",
    "    return df"
   ]
  },
  {
   "cell_type": "code",
   "execution_count": 13,
   "id": "4bdc007e-08a7-48f8-84b4-1757dec012f9",
   "metadata": {},
   "outputs": [
    {
     "data": {
      "text/html": [
       "<div>\n",
       "<style scoped>\n",
       "    .dataframe tbody tr th:only-of-type {\n",
       "        vertical-align: middle;\n",
       "    }\n",
       "\n",
       "    .dataframe tbody tr th {\n",
       "        vertical-align: top;\n",
       "    }\n",
       "\n",
       "    .dataframe thead th {\n",
       "        text-align: right;\n",
       "    }\n",
       "</style>\n",
       "<table border=\"1\" class=\"dataframe\">\n",
       "  <thead>\n",
       "    <tr style=\"text-align: right;\">\n",
       "      <th></th>\n",
       "      <th>SMILES</th>\n",
       "      <th>Canonical SMILES</th>\n",
       "      <th>Sweet</th>\n",
       "      <th>formula</th>\n",
       "      <th>valence_electrons</th>\n",
       "      <th>aromatic_atoms_count</th>\n",
       "      <th>Zn_count</th>\n",
       "      <th>Ag_count</th>\n",
       "      <th>Si_count</th>\n",
       "      <th>Hg_count</th>\n",
       "      <th>...</th>\n",
       "      <th>Ca_count</th>\n",
       "      <th>S_count</th>\n",
       "      <th>Fe_count</th>\n",
       "      <th>Na_count</th>\n",
       "      <th>Rn_count</th>\n",
       "      <th>F_count</th>\n",
       "      <th>I_count</th>\n",
       "      <th>Li_count</th>\n",
       "      <th>2_count</th>\n",
       "      <th>weight</th>\n",
       "    </tr>\n",
       "  </thead>\n",
       "  <tbody>\n",
       "    <tr>\n",
       "      <th>0</th>\n",
       "      <td>OCC1OC(C(C1O)O)(CO)OC1OC(CO)C(C(C1O)O)O</td>\n",
       "      <td>OCC1OC(C(C1O)O)(CO)OC1OC(CO)C(C(C1O)O)O</td>\n",
       "      <td>1</td>\n",
       "      <td>C12H22O11</td>\n",
       "      <td>136.0</td>\n",
       "      <td>0.0</td>\n",
       "      <td>0.0</td>\n",
       "      <td>0.0</td>\n",
       "      <td>0.0</td>\n",
       "      <td>0.0</td>\n",
       "      <td>...</td>\n",
       "      <td>0.0</td>\n",
       "      <td>0.0</td>\n",
       "      <td>0.0</td>\n",
       "      <td>0.0</td>\n",
       "      <td>0.0</td>\n",
       "      <td>0.0</td>\n",
       "      <td>0.0</td>\n",
       "      <td>0.0</td>\n",
       "      <td>NaN</td>\n",
       "      <td>342.116212</td>\n",
       "    </tr>\n",
       "    <tr>\n",
       "      <th>1</th>\n",
       "      <td>ClCC1OC(C(C1O)O)(CCl)OC1OC(CO)C(C(C1O)O)Cl</td>\n",
       "      <td>ClCC1OC(C(C1O)O)(CCl)OC1OC(CO)C(C(C1O)O)Cl</td>\n",
       "      <td>1</td>\n",
       "      <td>C12H19Cl3O8</td>\n",
       "      <td>136.0</td>\n",
       "      <td>0.0</td>\n",
       "      <td>0.0</td>\n",
       "      <td>0.0</td>\n",
       "      <td>0.0</td>\n",
       "      <td>0.0</td>\n",
       "      <td>...</td>\n",
       "      <td>0.0</td>\n",
       "      <td>0.0</td>\n",
       "      <td>0.0</td>\n",
       "      <td>0.0</td>\n",
       "      <td>0.0</td>\n",
       "      <td>0.0</td>\n",
       "      <td>0.0</td>\n",
       "      <td>0.0</td>\n",
       "      <td>NaN</td>\n",
       "      <td>396.014551</td>\n",
       "    </tr>\n",
       "    <tr>\n",
       "      <th>2</th>\n",
       "      <td>COC(=O)C(NC(=O)C(CC(=O)O)N)Cc1ccccc1</td>\n",
       "      <td>COC(=O)C(NC(=O)C(CC(=O)O)N)Cc1ccccc1</td>\n",
       "      <td>1</td>\n",
       "      <td>C14H18N2O5</td>\n",
       "      <td>114.0</td>\n",
       "      <td>6.0</td>\n",
       "      <td>0.0</td>\n",
       "      <td>0.0</td>\n",
       "      <td>0.0</td>\n",
       "      <td>0.0</td>\n",
       "      <td>...</td>\n",
       "      <td>0.0</td>\n",
       "      <td>0.0</td>\n",
       "      <td>0.0</td>\n",
       "      <td>0.0</td>\n",
       "      <td>0.0</td>\n",
       "      <td>0.0</td>\n",
       "      <td>0.0</td>\n",
       "      <td>0.0</td>\n",
       "      <td>NaN</td>\n",
       "      <td>294.121572</td>\n",
       "    </tr>\n",
       "  </tbody>\n",
       "</table>\n",
       "<p>3 rows × 38 columns</p>\n",
       "</div>"
      ],
      "text/plain": [
       "                                       SMILES  \\\n",
       "0     OCC1OC(C(C1O)O)(CO)OC1OC(CO)C(C(C1O)O)O   \n",
       "1  ClCC1OC(C(C1O)O)(CCl)OC1OC(CO)C(C(C1O)O)Cl   \n",
       "2        COC(=O)C(NC(=O)C(CC(=O)O)N)Cc1ccccc1   \n",
       "\n",
       "                             Canonical SMILES  Sweet      formula  \\\n",
       "0     OCC1OC(C(C1O)O)(CO)OC1OC(CO)C(C(C1O)O)O      1    C12H22O11   \n",
       "1  ClCC1OC(C(C1O)O)(CCl)OC1OC(CO)C(C(C1O)O)Cl      1  C12H19Cl3O8   \n",
       "2        COC(=O)C(NC(=O)C(CC(=O)O)N)Cc1ccccc1      1   C14H18N2O5   \n",
       "\n",
       "   valence_electrons  aromatic_atoms_count  Zn_count  Ag_count  Si_count  \\\n",
       "0              136.0                   0.0       0.0       0.0       0.0   \n",
       "1              136.0                   0.0       0.0       0.0       0.0   \n",
       "2              114.0                   6.0       0.0       0.0       0.0   \n",
       "\n",
       "   Hg_count  ...  Ca_count  S_count  Fe_count  Na_count  Rn_count  F_count  \\\n",
       "0       0.0  ...       0.0      0.0       0.0       0.0       0.0      0.0   \n",
       "1       0.0  ...       0.0      0.0       0.0       0.0       0.0      0.0   \n",
       "2       0.0  ...       0.0      0.0       0.0       0.0       0.0      0.0   \n",
       "\n",
       "   I_count  Li_count  2_count      weight  \n",
       "0      0.0       0.0      NaN  342.116212  \n",
       "1      0.0       0.0      NaN  396.014551  \n",
       "2      0.0       0.0      NaN  294.121572  \n",
       "\n",
       "[3 rows x 38 columns]"
      ]
     },
     "execution_count": 13,
     "metadata": {},
     "output_type": "execute_result"
    }
   ],
   "source": [
    "df_train = ext_pipeline(df_train, ext_f)\n",
    "df_test = ext_pipeline(df_test, ext_f)\n",
    "df_train.head(3)"
   ]
  },
  {
   "cell_type": "markdown",
   "id": "55c246d2-144f-495f-990f-2669326c6dfb",
   "metadata": {},
   "source": [
    "### Create the pipeline"
   ]
  },
  {
   "cell_type": "code",
   "execution_count": 14,
   "id": "217948cf-de7b-47b9-b610-4aa39fad3112",
   "metadata": {},
   "outputs": [],
   "source": [
    "target_col = 'Sweet'\n",
    "\n",
    "num_cols = [\n",
    "    'valence_electrons', 'aromatic_atoms_count', 'N_count',\n",
    "    'S_count', 'H_count', 'Rn_count', 'As_count', 'K_count',\n",
    "    'Ba_count', 'Bi_count', 'Br_count', 'Ne_count', 'Na_count',\n",
    "    'C_count', 'O_count', 'I_count', 'Ti_count', 'Pb_count',\n",
    "    'Li_count', 'F_count', 'Fe_count', 'P_count', 'Sr_count',\n",
    "    'Ca_count', 'He_count', 'Hg_count', 'Zn_count', 'Cl_count',\n",
    "    'Si_count', 'Ag_count', 'Mg_count', 'Ar_count', 'weight'\n",
    "]"
   ]
  },
  {
   "cell_type": "code",
   "execution_count": 15,
   "id": "4d7db55a-3190-4eb8-91a0-b5b1911a2550",
   "metadata": {},
   "outputs": [
    {
     "data": {
      "text/html": [
       "<div>\n",
       "<style scoped>\n",
       "    .dataframe tbody tr th:only-of-type {\n",
       "        vertical-align: middle;\n",
       "    }\n",
       "\n",
       "    .dataframe tbody tr th {\n",
       "        vertical-align: top;\n",
       "    }\n",
       "\n",
       "    .dataframe thead th {\n",
       "        text-align: right;\n",
       "    }\n",
       "</style>\n",
       "<table border=\"1\" class=\"dataframe\">\n",
       "  <thead>\n",
       "    <tr style=\"text-align: right;\">\n",
       "      <th></th>\n",
       "      <th>valence_electrons</th>\n",
       "      <th>aromatic_atoms_count</th>\n",
       "      <th>N_count</th>\n",
       "      <th>S_count</th>\n",
       "      <th>H_count</th>\n",
       "      <th>Rn_count</th>\n",
       "      <th>As_count</th>\n",
       "      <th>K_count</th>\n",
       "      <th>Ba_count</th>\n",
       "      <th>Bi_count</th>\n",
       "      <th>...</th>\n",
       "      <th>Ca_count</th>\n",
       "      <th>He_count</th>\n",
       "      <th>Hg_count</th>\n",
       "      <th>Zn_count</th>\n",
       "      <th>Cl_count</th>\n",
       "      <th>Si_count</th>\n",
       "      <th>Ag_count</th>\n",
       "      <th>Mg_count</th>\n",
       "      <th>Ar_count</th>\n",
       "      <th>weight</th>\n",
       "    </tr>\n",
       "  </thead>\n",
       "  <tbody>\n",
       "    <tr>\n",
       "      <th>1924</th>\n",
       "      <td>60.0</td>\n",
       "      <td>0.0</td>\n",
       "      <td>4.0</td>\n",
       "      <td>0.0</td>\n",
       "      <td>6.0</td>\n",
       "      <td>0.0</td>\n",
       "      <td>0.0</td>\n",
       "      <td>0.0</td>\n",
       "      <td>0.0</td>\n",
       "      <td>0.0</td>\n",
       "      <td>...</td>\n",
       "      <td>0.0</td>\n",
       "      <td>0.0</td>\n",
       "      <td>0.0</td>\n",
       "      <td>0.0</td>\n",
       "      <td>0.0</td>\n",
       "      <td>0.0</td>\n",
       "      <td>0.0</td>\n",
       "      <td>0.0</td>\n",
       "      <td>0.0</td>\n",
       "      <td>158.043990</td>\n",
       "    </tr>\n",
       "    <tr>\n",
       "      <th>42</th>\n",
       "      <td>86.0</td>\n",
       "      <td>6.0</td>\n",
       "      <td>2.0</td>\n",
       "      <td>0.0</td>\n",
       "      <td>10.0</td>\n",
       "      <td>0.0</td>\n",
       "      <td>0.0</td>\n",
       "      <td>0.0</td>\n",
       "      <td>0.0</td>\n",
       "      <td>0.0</td>\n",
       "      <td>...</td>\n",
       "      <td>0.0</td>\n",
       "      <td>0.0</td>\n",
       "      <td>0.0</td>\n",
       "      <td>0.0</td>\n",
       "      <td>0.0</td>\n",
       "      <td>0.0</td>\n",
       "      <td>0.0</td>\n",
       "      <td>0.0</td>\n",
       "      <td>0.0</td>\n",
       "      <td>226.058971</td>\n",
       "    </tr>\n",
       "  </tbody>\n",
       "</table>\n",
       "<p>2 rows × 33 columns</p>\n",
       "</div>"
      ],
      "text/plain": [
       "      valence_electrons  aromatic_atoms_count  N_count  S_count  H_count  \\\n",
       "1924               60.0                   0.0      4.0      0.0      6.0   \n",
       "42                 86.0                   6.0      2.0      0.0     10.0   \n",
       "\n",
       "      Rn_count  As_count  K_count  Ba_count  Bi_count  ...  Ca_count  \\\n",
       "1924       0.0       0.0      0.0       0.0       0.0  ...       0.0   \n",
       "42         0.0       0.0      0.0       0.0       0.0  ...       0.0   \n",
       "\n",
       "      He_count  Hg_count  Zn_count  Cl_count  Si_count  Ag_count  Mg_count  \\\n",
       "1924       0.0       0.0       0.0       0.0       0.0       0.0       0.0   \n",
       "42         0.0       0.0       0.0       0.0       0.0       0.0       0.0   \n",
       "\n",
       "      Ar_count      weight  \n",
       "1924       0.0  158.043990  \n",
       "42         0.0  226.058971  \n",
       "\n",
       "[2 rows x 33 columns]"
      ]
     },
     "execution_count": 15,
     "metadata": {},
     "output_type": "execute_result"
    }
   ],
   "source": [
    "X_train, X_test, y_train, y_test = train_test_split(\n",
    "    df_train[num_cols], df_train.Sweet,\n",
    "    test_size=0.05, random_state=seed\n",
    ")\n",
    "X_train.head(2)"
   ]
  },
  {
   "cell_type": "code",
   "execution_count": 16,
   "id": "1dec7dba-8969-4402-85c0-217c625c3bfc",
   "metadata": {},
   "outputs": [],
   "source": [
    "clf_model = CatBoostClassifier(silent=True)\n",
    "\n",
    "grid_params = {\n",
    "    'clf__depth':    range(2, 10, 1),\n",
    "    'clf__iterations': [10,20,30,40,50,60,70,80,90,100],\n",
    "    'clf__learning_rate': [0.1, 0.01, 0.05, 0.03],\n",
    "    'clf__l2_leaf_reg': [1, 3, 5, 7, 9]\n",
    "}\n",
    "\n",
    "cv = KFold(\n",
    "    5,\n",
    "    random_state=seed,\n",
    "    shuffle=True\n",
    ")\n",
    "\n",
    "num_trf = Pipeline([\n",
    "    ('imp', SimpleImputer(strategy='mean')), # mb I'l add more columns\n",
    "    ('scaler', StandardScaler())\n",
    "])\n",
    "\n",
    "clf_pipeline = Pipeline([\n",
    "    ('trf', num_trf),\n",
    "    ('clf', clf_model),\n",
    "])\n",
    "\n",
    "\n",
    "clf = GridSearchCV(\n",
    "    estimator=clf_pipeline,\n",
    "    param_grid=grid_params,\n",
    "    \n",
    "    scoring='f1',\n",
    "    \n",
    "    n_jobs=-1,\n",
    "    cv=cv,\n",
    "    \n",
    "    verbose=True,\n",
    "    refit=True,\n",
    ")"
   ]
  },
  {
   "cell_type": "code",
   "execution_count": 17,
   "id": "7ce6dbbc-a617-4f4b-8f81-0fa309c8480f",
   "metadata": {},
   "outputs": [],
   "source": [
    "def show_metrics(clf, X, y_test):\n",
    "    y_predict = np.argmax(clf.predict_proba(X), axis=1)\n",
    "    y_proba = clf.predict_proba(X)[:, 1]\n",
    "    \n",
    "    m_f1 = f1_score(y_test, y_predict)\n",
    "    m_rau = roc_auc_score(y_test, y_proba)\n",
    "    m_acc = accuracy_score(y_test, y_predict)\n",
    "    \n",
    "    out = {\n",
    "        'f1': m_f1,\n",
    "        'roc_auc': m_rau,\n",
    "        'accuracy': m_acc,\n",
    "    }\n",
    "    \n",
    "    print(out)"
   ]
  },
  {
   "cell_type": "markdown",
   "id": "d992418f-25f1-4c0a-a978-bf3b70e5ecfb",
   "metadata": {},
   "source": [
    "#### Fit the model, get the metrics. Repeat the process (and get best estimator)"
   ]
  },
  {
   "cell_type": "code",
   "execution_count": 18,
   "id": "98537165-c53d-4a57-b5b0-a33a0507c3ba",
   "metadata": {},
   "outputs": [
    {
     "name": "stdout",
     "output_type": "stream",
     "text": [
      "Fitting 5 folds for each of 1600 candidates, totalling 8000 fits\n",
      "{'f1': 0.8181818181818182, 'roc_auc': 0.9029220779220779, 'accuracy': 0.8198198198198198}\n"
     ]
    }
   ],
   "source": [
    "clf.fit(X_train, y_train)\n",
    "show_metrics(clf, X_test, y_test)"
   ]
  },
  {
   "cell_type": "code",
   "execution_count": 19,
   "id": "c85bf6dc-406c-48c6-bb2d-7e40cad71ddf",
   "metadata": {},
   "outputs": [],
   "source": [
    "df_out = df_test.copy(True)\n",
    "df_out['Sweet'] = clf.predict(df_test[num_cols]).astype(bool)"
   ]
  },
  {
   "cell_type": "code",
   "execution_count": 21,
   "id": "1310fbf4-09df-4f1b-9012-39056c5aca40",
   "metadata": {},
   "outputs": [],
   "source": [
    "df_out[['ID', 'Sweet']].to_csv(sub_path/'catboost_small_features_f1.csv', index=False)"
   ]
  },
  {
   "cell_type": "code",
   "execution_count": null,
   "id": "357b33e3-722c-4419-876c-bfb5019492a0",
   "metadata": {},
   "outputs": [],
   "source": []
  },
  {
   "cell_type": "code",
   "execution_count": null,
   "id": "0cc011a2-0cd0-41e6-8d83-0ccd3b953a30",
   "metadata": {},
   "outputs": [],
   "source": []
  }
 ],
 "metadata": {
  "kernelspec": {
   "display_name": "ai_env",
   "language": "python",
   "name": "ai_env"
  },
  "language_info": {
   "codemirror_mode": {
    "name": "ipython",
    "version": 3
   },
   "file_extension": ".py",
   "mimetype": "text/x-python",
   "name": "python",
   "nbconvert_exporter": "python",
   "pygments_lexer": "ipython3",
   "version": "3.9.13"
  }
 },
 "nbformat": 4,
 "nbformat_minor": 5
}
