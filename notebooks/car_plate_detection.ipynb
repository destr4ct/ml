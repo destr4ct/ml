{
 "cells": [
  {
   "cell_type": "markdown",
   "id": "27cc587e",
   "metadata": {
    "id": "5gZTjW4VMxJV",
    "papermill": {
     "duration": 0.0064,
     "end_time": "2022-07-17T02:46:42.659816",
     "exception": false,
     "start_time": "2022-07-17T02:46:42.653416",
     "status": "completed"
    },
    "pycharm": {
     "name": "#%% md\n"
    },
    "tags": []
   },
   "source": [
    "#### Study case: car's license plate detection + OCR\n",
    "\n",
    "---\n",
    " **Main goal:** extract car's number from given image\n",
    " **Dataset:** https://makeml.app/datasets/cars-license-plates}\n",
    " **Technologies:** pytorch and other ml related libraries"
   ]
  },
  {
   "cell_type": "markdown",
   "id": "df0b7986",
   "metadata": {
    "id": "owQtmG-OMxJX",
    "papermill": {
     "duration": 0.0049,
     "end_time": "2022-07-17T02:46:42.670077",
     "exception": false,
     "start_time": "2022-07-17T02:46:42.665177",
     "status": "completed"
    },
    "pycharm": {
     "name": "#%% md\n"
    },
    "tags": []
   },
   "source": [
    "##### Stage 1: import(install) all needed libraries, define constants."
   ]
  },
  {
   "cell_type": "code",
   "execution_count": 1,
   "id": "5aafb650",
   "metadata": {
    "execution": {
     "iopub.execute_input": "2022-07-17T02:46:42.682034Z",
     "iopub.status.busy": "2022-07-17T02:46:42.681521Z",
     "iopub.status.idle": "2022-07-17T02:47:12.014512Z",
     "shell.execute_reply": "2022-07-17T02:47:12.013179Z"
    },
    "id": "_5Qqx4nAMxJX",
    "outputId": "c67d461c-9bc3-4764-a158-4843c16a411f",
    "papermill": {
     "duration": 29.342101,
     "end_time": "2022-07-17T02:47:12.017260",
     "exception": false,
     "start_time": "2022-07-17T02:46:42.675159",
     "status": "completed"
    },
    "pycharm": {
     "name": "#%%\n"
    },
    "tags": []
   },
   "outputs": [
    {
     "name": "stdout",
     "output_type": "stream",
     "text": [
      "\u001b[33mWARNING: Running pip as the 'root' user can result in broken permissions and conflicting behaviour with the system package manager. It is recommended to use a virtual environment instead: https://pip.pypa.io/warnings/venv\u001b[0m\u001b[33m\r\n",
      "\u001b[0m"
     ]
    },
    {
     "name": "stderr",
     "output_type": "stream",
     "text": [
      "/opt/conda/lib/python3.7/site-packages/nebulgym/training_learners/model_engines/ort_engine.py:15: UserWarning: No ONNXRuntime training library for pytorch has been detected. The ORT backend won't be used.\n",
      "  \"No ONNXRuntime training library for pytorch has been detected. \"\n",
      "/opt/conda/lib/python3.7/site-packages/nebulgym/training_learners/model_engines/rammer_engine.py:17: UserWarning: No valid Rammer installation found. Using the Rammer backend will result in an error.\n",
      "  \"No valid Rammer installation found. Using the Rammer backend \"\n"
     ]
    }
   ],
   "source": [
    "# This tool is needed to download the dataset from g_disk.\n",
    "!pip install gdown nebulgym xmltodict torchmetrics -q\n",
    "\n",
    "# I suppose these libraries are installed\n",
    "import time\n",
    "import tqdm\n",
    "import os\n",
    "import gdown\n",
    "import cv2\n",
    "import torch\n",
    "import random\n",
    "import xmltodict\n",
    "from PIL import Image\n",
    "import numpy as np\n",
    "import torchvision\n",
    "import seaborn as sns\n",
    "from torch import nn\n",
    "from matplotlib import pyplot as plt\n",
    "import torchvision.transforms as trfs\n",
    "from torchmetrics.detection.mean_ap import MeanAveragePrecision\n",
    "from nebulgym.decorators.torch_decorators import accelerate_model, accelerate_dataset"
   ]
  },
  {
   "cell_type": "code",
   "execution_count": 2,
   "id": "50af2525",
   "metadata": {
    "execution": {
     "iopub.execute_input": "2022-07-17T02:47:12.029926Z",
     "iopub.status.busy": "2022-07-17T02:47:12.029378Z",
     "iopub.status.idle": "2022-07-17T02:47:12.037838Z",
     "shell.execute_reply": "2022-07-17T02:47:12.036724Z"
    },
    "id": "73TpDxnoMxJY",
    "papermill": {
     "duration": 0.016887,
     "end_time": "2022-07-17T02:47:12.039863",
     "exception": false,
     "start_time": "2022-07-17T02:47:12.022976",
     "status": "completed"
    },
    "pycharm": {
     "name": "#%%\n"
    },
    "tags": []
   },
   "outputs": [],
   "source": [
    "# Make results reproducible\n",
    "curr_seed = 21\n",
    "\n",
    "random.seed(curr_seed)\n",
    "np.random.seed(curr_seed)\n",
    "torch.manual_seed(curr_seed)\n",
    "torch.cuda.manual_seed(curr_seed)\n",
    "torch.backends.cudnn.deterministic = True"
   ]
  },
  {
   "cell_type": "code",
   "execution_count": 3,
   "id": "2426c48b",
   "metadata": {
    "execution": {
     "iopub.execute_input": "2022-07-17T02:47:12.053434Z",
     "iopub.status.busy": "2022-07-17T02:47:12.052494Z",
     "iopub.status.idle": "2022-07-17T02:47:12.122130Z",
     "shell.execute_reply": "2022-07-17T02:47:12.120677Z"
    },
    "id": "GCcqYdtQMxJY",
    "outputId": "6acfe1e4-cd23-4a35-d69a-4ad87288d3af",
    "papermill": {
     "duration": 0.079038,
     "end_time": "2022-07-17T02:47:12.124333",
     "exception": false,
     "start_time": "2022-07-17T02:47:12.045295",
     "status": "completed"
    },
    "pycharm": {
     "name": "#%%\n"
    },
    "tags": []
   },
   "outputs": [
    {
     "name": "stdout",
     "output_type": "stream",
     "text": [
      "Using device: cuda\n"
     ]
    }
   ],
   "source": [
    "# Constants cell\n",
    "sns.set_theme('paper')\n",
    "sns.set_style('whitegrid')\n",
    "\n",
    "im_size = 320\n",
    "n_classes = 2                 # license + background\n",
    "split_factor = 0.12\n",
    "pref_batch_size = 32\n",
    "ssd_weights_path = None\n",
    "train_q = True\n",
    "\n",
    "dev = torch.device('cuda' if torch.cuda.is_available() else 'cpu')\n",
    "print(f'Using device: {dev}')"
   ]
  },
  {
   "cell_type": "markdown",
   "id": "750aecff",
   "metadata": {
    "id": "SNuQUhpiMxJZ",
    "papermill": {
     "duration": 0.005678,
     "end_time": "2022-07-17T02:47:12.135661",
     "exception": false,
     "start_time": "2022-07-17T02:47:12.129983",
     "status": "completed"
    },
    "pycharm": {
     "name": "#%% md\n"
    },
    "tags": []
   },
   "source": [
    "##### Stage 2: download the dataset & implement the torch.utils.data.Dataset"
   ]
  },
  {
   "cell_type": "code",
   "execution_count": 4,
   "id": "7b268a91",
   "metadata": {
    "execution": {
     "iopub.execute_input": "2022-07-17T02:47:12.148469Z",
     "iopub.status.busy": "2022-07-17T02:47:12.147650Z",
     "iopub.status.idle": "2022-07-17T02:47:20.143865Z",
     "shell.execute_reply": "2022-07-17T02:47:20.142864Z"
    },
    "id": "WA79JlrbMxJZ",
    "outputId": "4843e8cf-5551-4399-e9ce-d55513390968",
    "papermill": {
     "duration": 8.004907,
     "end_time": "2022-07-17T02:47:20.146211",
     "exception": false,
     "start_time": "2022-07-17T02:47:12.141304",
     "status": "completed"
    },
    "pycharm": {
     "name": "#%%\n"
    },
    "tags": []
   },
   "outputs": [
    {
     "name": "stderr",
     "output_type": "stream",
     "text": [
      "Downloading...\n",
      "From: https://drive.google.com/uc?id=1JNxP_tVV8oVfdGij2gKBC-S04NizfGy4\n",
      "To: /kaggle/working/dataset/dataset.zip\n",
      "100%|██████████| 24.6M/24.6M [00:00<00:00, 269MB/s]\n"
     ]
    }
   ],
   "source": [
    "# Loads the dataset(zip format) and extracts content\n",
    "dataset_path = './dataset'\n",
    "output_path = f'{dataset_path}/dataset.zip'\n",
    "dataset_location = 'https://drive.google.com/file/d/1JNxP_tVV8oVfdGij2gKBC-S04NizfGy4/view?usp=sharing'\n",
    "\n",
    "if not os.path.exists(dataset_path):\n",
    "    os.mkdir(dataset_path)\n",
    "    gdown.download(dataset_location, output_path, fuzzy = True)\n",
    "    gdown.extractall(output_path, dataset_path)\n",
    "    os.remove(output_path)"
   ]
  },
  {
   "cell_type": "code",
   "execution_count": 5,
   "id": "81e0d6c7",
   "metadata": {
    "execution": {
     "iopub.execute_input": "2022-07-17T02:47:20.158999Z",
     "iopub.status.busy": "2022-07-17T02:47:20.158717Z",
     "iopub.status.idle": "2022-07-17T02:47:20.838077Z",
     "shell.execute_reply": "2022-07-17T02:47:20.837035Z"
    },
    "id": "VljVrrZGCwH0",
    "outputId": "729aa628-7fd6-492b-f71f-5771b422fb6f",
    "papermill": {
     "duration": 0.688196,
     "end_time": "2022-07-17T02:47:20.840173",
     "exception": false,
     "start_time": "2022-07-17T02:47:20.151977",
     "status": "completed"
    },
    "pycharm": {
     "name": "#%%\n"
    },
    "tags": []
   },
   "outputs": [
    {
     "name": "stdout",
     "output_type": "stream",
     "text": [
      "README.dataset.txt  annotations  images\r\n"
     ]
    }
   ],
   "source": [
    "!ls dataset/'My dataset/'"
   ]
  },
  {
   "cell_type": "code",
   "execution_count": 6,
   "id": "233622a9",
   "metadata": {
    "execution": {
     "iopub.execute_input": "2022-07-17T02:47:20.853606Z",
     "iopub.status.busy": "2022-07-17T02:47:20.852973Z",
     "iopub.status.idle": "2022-07-17T02:47:20.863247Z",
     "shell.execute_reply": "2022-07-17T02:47:20.862394Z"
    },
    "id": "u9Sa0mtpMxJZ",
    "papermill": {
     "duration": 0.019227,
     "end_time": "2022-07-17T02:47:20.865162",
     "exception": false,
     "start_time": "2022-07-17T02:47:20.845935",
     "status": "completed"
    },
    "pycharm": {
     "name": "#%%\n"
    },
    "tags": []
   },
   "outputs": [],
   "source": [
    "# Shape of bbox_list is [N,4]. b_boxes are in format [xmin, ymin, xmax, ymax]\n",
    "def plot_detection(img, bbox_list, labels = ['Class 0'], title = 'Detection plot', b_color = 'orangered'):\n",
    "    img = img.cpu()\n",
    "\n",
    "    im_channels = img.size(0)\n",
    "    if im_channels == 1 or im_channels == 3:\n",
    "        img = img.permute(1, 2, 0)\n",
    "\n",
    "    fig, ax = plt.subplots(1, 1, figsize = (8, 8))\n",
    "    ax.set_title(title, size = 14)\n",
    "    ax.imshow(img)\n",
    "\n",
    "    for bbox, label in zip(bbox_list, labels):\n",
    "        x_min, y_min, x_max, y_max = bbox\n",
    "        ax.plot([x_min, x_min], [y_min, y_max], color = b_color)\n",
    "        ax.plot([x_max, x_max], [y_min, y_max], color = b_color)\n",
    "        ax.plot([x_min, x_max], [y_min, y_min], color = b_color)\n",
    "        ax.plot([x_min, x_max], [y_max, y_max], color = b_color)\n",
    "        ax.text(x_min - 3, y_min - 3, label, color = b_color, fontweight='bold', size = 12)"
   ]
  },
  {
   "cell_type": "code",
   "execution_count": 7,
   "id": "834cfec4",
   "metadata": {
    "execution": {
     "iopub.execute_input": "2022-07-17T02:47:20.878163Z",
     "iopub.status.busy": "2022-07-17T02:47:20.877594Z",
     "iopub.status.idle": "2022-07-17T02:47:20.893681Z",
     "shell.execute_reply": "2022-07-17T02:47:20.892771Z"
    },
    "id": "HTEif8c6MxJZ",
    "papermill": {
     "duration": 0.024925,
     "end_time": "2022-07-17T02:47:20.895605",
     "exception": false,
     "start_time": "2022-07-17T02:47:20.870680",
     "status": "completed"
    },
    "pycharm": {
     "name": "#%%\n"
    },
    "tags": []
   },
   "outputs": [],
   "source": [
    "# Dataset of cars' license plates.\n",
    "@accelerate_dataset() # \"nebulgym provides cached dataset to speed up this process by caching data samples in memory\"\n",
    "class LicensePlateDataset(torch.utils.data.Dataset):\n",
    "\n",
    "    _trf = trfs.Compose([\n",
    "        trfs.ToTensor(),\n",
    "    ])\n",
    "\n",
    "    def __init__(self, path = './dataset/My dataset', dev = 'cpu'):\n",
    "        self.dev = dev\n",
    "        self.annotation_path = path + '/annotations'\n",
    "        self.image_path      = path + '/images'\n",
    "        assert os.path.exists(self.annotation_path) and os.path.exists(self.image_path), 'Dataset structure is incorrect'\n",
    "\n",
    "        self.images_paths = os.listdir(self.image_path)\n",
    "        self.annotations_paths = os.listdir(self.annotation_path)\n",
    "\n",
    "    def __len__(self):\n",
    "        return len(self.images_paths)\n",
    "\n",
    "    # Returns bounding box as [xmin, ymin, xmax, ymax]\n",
    "    def __getitem__(self, item):\n",
    "\n",
    "        curr_annotation_path = self.annotation_path + '/' + self.annotations_paths[item]\n",
    "        with open(curr_annotation_path, 'r') as annotation:\n",
    "            annotation_content = annotation.read()\n",
    "        anno = xmltodict.parse(annotation_content)\n",
    "\n",
    "        # Grayscale + bilateralFilter\n",
    "        curr_img_path = self.image_path + '/' + anno['annotation']['filename']\n",
    "        img = cv2.imread(curr_img_path)\n",
    "        img = cv2.cvtColor(img, cv2.COLOR_BGR2GRAY)\n",
    "        img = cv2.bilateralFilter(img, 11, 17, 17)\n",
    "        prep_img = self._trf(img)\n",
    "\n",
    "        all_bbox = []\n",
    "        all_labels = []\n",
    "        if 'object' not in anno['annotation']:\n",
    "            return self.last_img, self.last_dt\n",
    "        objects = anno['annotation']['object']\n",
    "\n",
    "        if not isinstance(objects, list):\n",
    "            all_bbox.append(LicensePlateDataset._bbox_scaler(objects['bndbox']))\n",
    "            all_labels.append(1 if objects['name'] == 'license plate' else 0)\n",
    "        else:\n",
    "            for obj in objects:\n",
    "                all_bbox.append(LicensePlateDataset._bbox_scaler(obj['bndbox']))\n",
    "                all_labels.append(1 if obj['name'] == 'license plate' else 0)\n",
    "        train_data = {\n",
    "            'boxes': torch.Tensor(all_bbox).to(dev),\n",
    "            'labels': torch.LongTensor(all_labels).to(dev),\n",
    "        }\n",
    "\n",
    "        self.last_img = prep_img\n",
    "        self.last_dt  = train_data\n",
    "\n",
    "        return prep_img, train_data\n",
    "\n",
    "    # Scale in format (x_scale, y_scale)\n",
    "    @staticmethod\n",
    "    def _bbox_scaler(box_dict, scale = None):\n",
    "        if scale is None:\n",
    "            scale = (1, 1)\n",
    "        x_scale, y_scale = scale\n",
    "        out_list = []\n",
    "        for k, v in zip(box_dict, box_dict.values()):\n",
    "            out_list.append(int(v) / (x_scale if k[0] == 'x' else y_scale))\n",
    "        \n",
    "        x_min, x_max, y_min, y_max = out_list\n",
    "        return [x_min, y_min, x_max, y_max]"
   ]
  },
  {
   "cell_type": "code",
   "execution_count": 8,
   "id": "f1adb93c",
   "metadata": {
    "execution": {
     "iopub.execute_input": "2022-07-17T02:47:20.907744Z",
     "iopub.status.busy": "2022-07-17T02:47:20.907492Z",
     "iopub.status.idle": "2022-07-17T02:47:24.458226Z",
     "shell.execute_reply": "2022-07-17T02:47:24.457345Z"
    },
    "id": "EE-Ogf8rMxJa",
    "outputId": "af5919a2-a1ac-430e-a15f-0fb6c3833f03",
    "papermill": {
     "duration": 3.560102,
     "end_time": "2022-07-17T02:47:24.461171",
     "exception": false,
     "start_time": "2022-07-17T02:47:20.901069",
     "status": "completed"
    },
    "pycharm": {
     "name": "#%%\n"
    },
    "tags": []
   },
   "outputs": [
    {
     "name": "stdout",
     "output_type": "stream",
     "text": [
      "torch.Size([1, 320, 320])\n"
     ]
    },
    {
     "data": {
      "image/png": "[encoded data removed]",
      "text/plain": [
       "<Figure size 576x576 with 1 Axes>"
      ]
     },
     "metadata": {},
     "output_type": "display_data"
    }
   ],
   "source": [
    "ds = LicensePlateDataset()\n",
    "curr_img, t_data = ds[210]\n",
    "print(curr_img.shape)\n",
    "plot_detection(curr_img, t_data['boxes'].cpu(), labels = t_data['labels'])"
   ]
  },
  {
   "cell_type": "code",
   "execution_count": 9,
   "id": "90015540",
   "metadata": {
    "execution": {
     "iopub.execute_input": "2022-07-17T02:47:24.481630Z",
     "iopub.status.busy": "2022-07-17T02:47:24.481352Z",
     "iopub.status.idle": "2022-07-17T02:47:24.487923Z",
     "shell.execute_reply": "2022-07-17T02:47:24.486940Z"
    },
    "id": "PQF5smqiMxJa",
    "outputId": "d344a699-d7dd-4d30-fa1b-f27f39332562",
    "papermill": {
     "duration": 0.020126,
     "end_time": "2022-07-17T02:47:24.491033",
     "exception": false,
     "start_time": "2022-07-17T02:47:24.470907",
     "status": "completed"
    },
    "pycharm": {
     "name": "#%%\n"
    },
    "tags": []
   },
   "outputs": [
    {
     "name": "stdout",
     "output_type": "stream",
     "text": [
      "[+] ds_train: 1183 | ds_test: 161\n"
     ]
    }
   ],
   "source": [
    "test_count = round(len(ds) * split_factor)\n",
    "train_count = len(ds) - test_count\n",
    "\n",
    "ds_train, ds_test = torch.utils.data.random_split(\n",
    "    ds, (train_count, test_count)\n",
    ")\n",
    "print(f'[+] ds_train: {train_count} | ds_test: {test_count}')"
   ]
  },
  {
   "cell_type": "code",
   "execution_count": 10,
   "id": "1f9d5efe",
   "metadata": {
    "execution": {
     "iopub.execute_input": "2022-07-17T02:47:24.511744Z",
     "iopub.status.busy": "2022-07-17T02:47:24.511180Z",
     "iopub.status.idle": "2022-07-17T02:47:24.517420Z",
     "shell.execute_reply": "2022-07-17T02:47:24.516486Z"
    },
    "id": "FveKFx9hMxJb",
    "papermill": {
     "duration": 0.018571,
     "end_time": "2022-07-17T02:47:24.519435",
     "exception": false,
     "start_time": "2022-07-17T02:47:24.500864",
     "status": "completed"
    },
    "pycharm": {
     "name": "#%%\n"
    },
    "tags": []
   },
   "outputs": [],
   "source": [
    "def collate_fn(batch):\n",
    "    return tuple(zip(*batch))\n",
    "\n",
    "dl_train = torch.utils.data.DataLoader(\n",
    "    ds_train, pref_batch_size,\n",
    "    shuffle = True, collate_fn = collate_fn\n",
    ")\n",
    "\n",
    "dl_test = torch.utils.data.DataLoader(\n",
    "    ds_test, pref_batch_size,\n",
    "    shuffle = False, collate_fn = collate_fn, drop_last = True\n",
    ")"
   ]
  },
  {
   "cell_type": "markdown",
   "id": "3b193ee4",
   "metadata": {
    "id": "Th7Ap5SHMxJb",
    "papermill": {
     "duration": 0.008826,
     "end_time": "2022-07-17T02:47:24.537679",
     "exception": false,
     "start_time": "2022-07-17T02:47:24.528853",
     "status": "completed"
    },
    "pycharm": {
     "name": "#%% md\n"
    },
    "tags": []
   },
   "source": [
    "##### Stage 3: Model creation & training."
   ]
  },
  {
   "cell_type": "code",
   "execution_count": 11,
   "id": "1ab9c401",
   "metadata": {
    "execution": {
     "iopub.execute_input": "2022-07-17T02:47:24.556866Z",
     "iopub.status.busy": "2022-07-17T02:47:24.556599Z",
     "iopub.status.idle": "2022-07-17T02:47:24.860810Z",
     "shell.execute_reply": "2022-07-17T02:47:24.859832Z"
    },
    "id": "9pfS4S5_MxJb",
    "outputId": "c62d8fa6-4be6-44aa-e893-81b58b76dc66",
    "papermill": {
     "duration": 0.317412,
     "end_time": "2022-07-17T02:47:24.864011",
     "exception": false,
     "start_time": "2022-07-17T02:47:24.546599",
     "status": "completed"
    },
    "pycharm": {
     "name": "#%%\n"
    },
    "tags": []
   },
   "outputs": [
    {
     "data": {
      "text/plain": [
       "ANPRv1(\n",
       "  (ssd_model): SSD(\n",
       "    (backbone): SSDLiteFeatureExtractorMobileNet(\n",
       "      (features): Sequential(\n",
       "        (0): Sequential(\n",
       "          (0): ConvNormActivation(\n",
       "            (0): Conv2d(3, 16, kernel_size=(3, 3), stride=(2, 2), padding=(1, 1), bias=False)\n",
       "            (1): BatchNorm2d(16, eps=0.001, momentum=0.03, affine=True, track_running_stats=True)\n",
       "            (2): Hardswish()\n",
       "          )\n",
       "          (1): InvertedResidual(\n",
       "            (block): Sequential(\n",
       "              (0): ConvNormActivation(\n",
       "                (0): Conv2d(16, 16, kernel_size=(3, 3), stride=(1, 1), padding=(1, 1), groups=16, bias=False)\n",
       "                (1): BatchNorm2d(16, eps=0.001, momentum=0.03, affine=True, track_running_stats=True)\n",
       "                (2): ReLU(inplace=True)\n",
       "              )\n",
       "              (1): ConvNormActivation(\n",
       "                (0): Conv2d(16, 16, kernel_size=(1, 1), stride=(1, 1), bias=False)\n",
       "                (1): BatchNorm2d(16, eps=0.001, momentum=0.03, affine=True, track_running_stats=True)\n",
       "              )\n",
       "            )\n",
       "          )\n",
       "          (2): InvertedResidual(\n",
       "            (block): Sequential(\n",
       "              (0): ConvNormActivation(\n",
       "                (0): Conv2d(16, 64, kernel_size=(1, 1), stride=(1, 1), bias=False)\n",
       "                (1): BatchNorm2d(64, eps=0.001, momentum=0.03, affine=True, track_running_stats=True)\n",
       "                (2): ReLU(inplace=True)\n",
       "              )\n",
       "              (1): ConvNormActivation(\n",
       "                (0): Conv2d(64, 64, kernel_size=(3, 3), stride=(2, 2), padding=(1, 1), groups=64, bias=False)\n",
       "                (1): BatchNorm2d(64, eps=0.001, momentum=0.03, affine=True, track_running_stats=True)\n",
       "                (2): ReLU(inplace=True)\n",
       "              )\n",
       "              (2): ConvNormActivation(\n",
       "                (0): Conv2d(64, 24, kernel_size=(1, 1), stride=(1, 1), bias=False)\n",
       "                (1): BatchNorm2d(24, eps=0.001, momentum=0.03, affine=True, track_running_stats=True)\n",
       "              )\n",
       "            )\n",
       "          )\n",
       "          (3): InvertedResidual(\n",
       "            (block): Sequential(\n",
       "              (0): ConvNormActivation(\n",
       "                (0): Conv2d(24, 72, kernel_size=(1, 1), stride=(1, 1), bias=False)\n",
       "                (1): BatchNorm2d(72, eps=0.001, momentum=0.03, affine=True, track_running_stats=True)\n",
       "                (2): ReLU(inplace=True)\n",
       "              )\n",
       "              (1): ConvNormActivation(\n",
       "                (0): Conv2d(72, 72, kernel_size=(3, 3), stride=(1, 1), padding=(1, 1), groups=72, bias=False)\n",
       "                (1): BatchNorm2d(72, eps=0.001, momentum=0.03, affine=True, track_running_stats=True)\n",
       "                (2): ReLU(inplace=True)\n",
       "              )\n",
       "              (2): ConvNormActivation(\n",
       "                (0): Conv2d(72, 24, kernel_size=(1, 1), stride=(1, 1), bias=False)\n",
       "                (1): BatchNorm2d(24, eps=0.001, momentum=0.03, affine=True, track_running_stats=True)\n",
       "              )\n",
       "            )\n",
       "          )\n",
       "          (4): InvertedResidual(\n",
       "            (block): Sequential(\n",
       "              (0): ConvNormActivation(\n",
       "                (0): Conv2d(24, 72, kernel_size=(1, 1), stride=(1, 1), bias=False)\n",
       "                (1): BatchNorm2d(72, eps=0.001, momentum=0.03, affine=True, track_running_stats=True)\n",
       "                (2): ReLU(inplace=True)\n",
       "              )\n",
       "              (1): ConvNormActivation(\n",
       "                (0): Conv2d(72, 72, kernel_size=(5, 5), stride=(2, 2), padding=(2, 2), groups=72, bias=False)\n",
       "                (1): BatchNorm2d(72, eps=0.001, momentum=0.03, affine=True, track_running_stats=True)\n",
       "                (2): ReLU(inplace=True)\n",
       "              )\n",
       "              (2): SqueezeExcitation(\n",
       "                (avgpool): AdaptiveAvgPool2d(output_size=1)\n",
       "                (fc1): Conv2d(72, 24, kernel_size=(1, 1), stride=(1, 1))\n",
       "                (fc2): Conv2d(24, 72, kernel_size=(1, 1), stride=(1, 1))\n",
       "                (activation): ReLU()\n",
       "                (scale_activation): Hardsigmoid()\n",
       "              )\n",
       "              (3): ConvNormActivation(\n",
       "                (0): Conv2d(72, 40, kernel_size=(1, 1), stride=(1, 1), bias=False)\n",
       "                (1): BatchNorm2d(40, eps=0.001, momentum=0.03, affine=True, track_running_stats=True)\n",
       "              )\n",
       "            )\n",
       "          )\n",
       "          (5): InvertedResidual(\n",
       "            (block): Sequential(\n",
       "              (0): ConvNormActivation(\n",
       "                (0): Conv2d(40, 120, kernel_size=(1, 1), stride=(1, 1), bias=False)\n",
       "                (1): BatchNorm2d(120, eps=0.001, momentum=0.03, affine=True, track_running_stats=True)\n",
       "                (2): ReLU(inplace=True)\n",
       "              )\n",
       "              (1): ConvNormActivation(\n",
       "                (0): Conv2d(120, 120, kernel_size=(5, 5), stride=(1, 1), padding=(2, 2), groups=120, bias=False)\n",
       "                (1): BatchNorm2d(120, eps=0.001, momentum=0.03, affine=True, track_running_stats=True)\n",
       "                (2): ReLU(inplace=True)\n",
       "              )\n",
       "              (2): SqueezeExcitation(\n",
       "                (avgpool): AdaptiveAvgPool2d(output_size=1)\n",
       "                (fc1): Conv2d(120, 32, kernel_size=(1, 1), stride=(1, 1))\n",
       "                (fc2): Conv2d(32, 120, kernel_size=(1, 1), stride=(1, 1))\n",
       "                (activation): ReLU()\n",
       "                (scale_activation): Hardsigmoid()\n",
       "              )\n",
       "              (3): ConvNormActivation(\n",
       "                (0): Conv2d(120, 40, kernel_size=(1, 1), stride=(1, 1), bias=False)\n",
       "                (1): BatchNorm2d(40, eps=0.001, momentum=0.03, affine=True, track_running_stats=True)\n",
       "              )\n",
       "            )\n",
       "          )\n",
       "          (6): InvertedResidual(\n",
       "            (block): Sequential(\n",
       "              (0): ConvNormActivation(\n",
       "                (0): Conv2d(40, 120, kernel_size=(1, 1), stride=(1, 1), bias=False)\n",
       "                (1): BatchNorm2d(120, eps=0.001, momentum=0.03, affine=True, track_running_stats=True)\n",
       "                (2): ReLU(inplace=True)\n",
       "              )\n",
       "              (1): ConvNormActivation(\n",
       "                (0): Conv2d(120, 120, kernel_size=(5, 5), stride=(1, 1), padding=(2, 2), groups=120, bias=False)\n",
       "                (1): BatchNorm2d(120, eps=0.001, momentum=0.03, affine=True, track_running_stats=True)\n",
       "                (2): ReLU(inplace=True)\n",
       "              )\n",
       "              (2): SqueezeExcitation(\n",
       "                (avgpool): AdaptiveAvgPool2d(output_size=1)\n",
       "                (fc1): Conv2d(120, 32, kernel_size=(1, 1), stride=(1, 1))\n",
       "                (fc2): Conv2d(32, 120, kernel_size=(1, 1), stride=(1, 1))\n",
       "                (activation): ReLU()\n",
       "                (scale_activation): Hardsigmoid()\n",
       "              )\n",
       "              (3): ConvNormActivation(\n",
       "                (0): Conv2d(120, 40, kernel_size=(1, 1), stride=(1, 1), bias=False)\n",
       "                (1): BatchNorm2d(40, eps=0.001, momentum=0.03, affine=True, track_running_stats=True)\n",
       "              )\n",
       "            )\n",
       "          )\n",
       "          (7): InvertedResidual(\n",
       "            (block): Sequential(\n",
       "              (0): ConvNormActivation(\n",
       "                (0): Conv2d(40, 240, kernel_size=(1, 1), stride=(1, 1), bias=False)\n",
       "                (1): BatchNorm2d(240, eps=0.001, momentum=0.03, affine=True, track_running_stats=True)\n",
       "                (2): Hardswish()\n",
       "              )\n",
       "              (1): ConvNormActivation(\n",
       "                (0): Conv2d(240, 240, kernel_size=(3, 3), stride=(2, 2), padding=(1, 1), groups=240, bias=False)\n",
       "                (1): BatchNorm2d(240, eps=0.001, momentum=0.03, affine=True, track_running_stats=True)\n",
       "                (2): Hardswish()\n",
       "              )\n",
       "              (2): ConvNormActivation(\n",
       "                (0): Conv2d(240, 80, kernel_size=(1, 1), stride=(1, 1), bias=False)\n",
       "                (1): BatchNorm2d(80, eps=0.001, momentum=0.03, affine=True, track_running_stats=True)\n",
       "              )\n",
       "            )\n",
       "          )\n",
       "          (8): InvertedResidual(\n",
       "            (block): Sequential(\n",
       "              (0): ConvNormActivation(\n",
       "                (0): Conv2d(80, 200, kernel_size=(1, 1), stride=(1, 1), bias=False)\n",
       "                (1): BatchNorm2d(200, eps=0.001, momentum=0.03, affine=True, track_running_stats=True)\n",
       "                (2): Hardswish()\n",
       "              )\n",
       "              (1): ConvNormActivation(\n",
       "                (0): Conv2d(200, 200, kernel_size=(3, 3), stride=(1, 1), padding=(1, 1), groups=200, bias=False)\n",
       "                (1): BatchNorm2d(200, eps=0.001, momentum=0.03, affine=True, track_running_stats=True)\n",
       "                (2): Hardswish()\n",
       "              )\n",
       "              (2): ConvNormActivation(\n",
       "                (0): Conv2d(200, 80, kernel_size=(1, 1), stride=(1, 1), bias=False)\n",
       "                (1): BatchNorm2d(80, eps=0.001, momentum=0.03, affine=True, track_running_stats=True)\n",
       "              )\n",
       "            )\n",
       "          )\n",
       "          (9): InvertedResidual(\n",
       "            (block): Sequential(\n",
       "              (0): ConvNormActivation(\n",
       "                (0): Conv2d(80, 184, kernel_size=(1, 1), stride=(1, 1), bias=False)\n",
       "                (1): BatchNorm2d(184, eps=0.001, momentum=0.03, affine=True, track_running_stats=True)\n",
       "                (2): Hardswish()\n",
       "              )\n",
       "              (1): ConvNormActivation(\n",
       "                (0): Conv2d(184, 184, kernel_size=(3, 3), stride=(1, 1), padding=(1, 1), groups=184, bias=False)\n",
       "                (1): BatchNorm2d(184, eps=0.001, momentum=0.03, affine=True, track_running_stats=True)\n",
       "                (2): Hardswish()\n",
       "              )\n",
       "              (2): ConvNormActivation(\n",
       "                (0): Conv2d(184, 80, kernel_size=(1, 1), stride=(1, 1), bias=False)\n",
       "                (1): BatchNorm2d(80, eps=0.001, momentum=0.03, affine=True, track_running_stats=True)\n",
       "              )\n",
       "            )\n",
       "          )\n",
       "          (10): InvertedResidual(\n",
       "            (block): Sequential(\n",
       "              (0): ConvNormActivation(\n",
       "                (0): Conv2d(80, 184, kernel_size=(1, 1), stride=(1, 1), bias=False)\n",
       "                (1): BatchNorm2d(184, eps=0.001, momentum=0.03, affine=True, track_running_stats=True)\n",
       "                (2): Hardswish()\n",
       "              )\n",
       "              (1): ConvNormActivation(\n",
       "                (0): Conv2d(184, 184, kernel_size=(3, 3), stride=(1, 1), padding=(1, 1), groups=184, bias=False)\n",
       "                (1): BatchNorm2d(184, eps=0.001, momentum=0.03, affine=True, track_running_stats=True)\n",
       "                (2): Hardswish()\n",
       "              )\n",
       "              (2): ConvNormActivation(\n",
       "                (0): Conv2d(184, 80, kernel_size=(1, 1), stride=(1, 1), bias=False)\n",
       "                (1): BatchNorm2d(80, eps=0.001, momentum=0.03, affine=True, track_running_stats=True)\n",
       "              )\n",
       "            )\n",
       "          )\n",
       "          (11): InvertedResidual(\n",
       "            (block): Sequential(\n",
       "              (0): ConvNormActivation(\n",
       "                (0): Conv2d(80, 480, kernel_size=(1, 1), stride=(1, 1), bias=False)\n",
       "                (1): BatchNorm2d(480, eps=0.001, momentum=0.03, affine=True, track_running_stats=True)\n",
       "                (2): Hardswish()\n",
       "              )\n",
       "              (1): ConvNormActivation(\n",
       "                (0): Conv2d(480, 480, kernel_size=(3, 3), stride=(1, 1), padding=(1, 1), groups=480, bias=False)\n",
       "                (1): BatchNorm2d(480, eps=0.001, momentum=0.03, affine=True, track_running_stats=True)\n",
       "                (2): Hardswish()\n",
       "              )\n",
       "              (2): SqueezeExcitation(\n",
       "                (avgpool): AdaptiveAvgPool2d(output_size=1)\n",
       "                (fc1): Conv2d(480, 120, kernel_size=(1, 1), stride=(1, 1))\n",
       "                (fc2): Conv2d(120, 480, kernel_size=(1, 1), stride=(1, 1))\n",
       "                (activation): ReLU()\n",
       "                (scale_activation): Hardsigmoid()\n",
       "              )\n",
       "              (3): ConvNormActivation(\n",
       "                (0): Conv2d(480, 112, kernel_size=(1, 1), stride=(1, 1), bias=False)\n",
       "                (1): BatchNorm2d(112, eps=0.001, momentum=0.03, affine=True, track_running_stats=True)\n",
       "              )\n",
       "            )\n",
       "          )\n",
       "          (12): InvertedResidual(\n",
       "            (block): Sequential(\n",
       "              (0): ConvNormActivation(\n",
       "                (0): Conv2d(112, 672, kernel_size=(1, 1), stride=(1, 1), bias=False)\n",
       "                (1): BatchNorm2d(672, eps=0.001, momentum=0.03, affine=True, track_running_stats=True)\n",
       "                (2): Hardswish()\n",
       "              )\n",
       "              (1): ConvNormActivation(\n",
       "                (0): Conv2d(672, 672, kernel_size=(3, 3), stride=(1, 1), padding=(1, 1), groups=672, bias=False)\n",
       "                (1): BatchNorm2d(672, eps=0.001, momentum=0.03, affine=True, track_running_stats=True)\n",
       "                (2): Hardswish()\n",
       "              )\n",
       "              (2): SqueezeExcitation(\n",
       "                (avgpool): AdaptiveAvgPool2d(output_size=1)\n",
       "                (fc1): Conv2d(672, 168, kernel_size=(1, 1), stride=(1, 1))\n",
       "                (fc2): Conv2d(168, 672, kernel_size=(1, 1), stride=(1, 1))\n",
       "                (activation): ReLU()\n",
       "                (scale_activation): Hardsigmoid()\n",
       "              )\n",
       "              (3): ConvNormActivation(\n",
       "                (0): Conv2d(672, 112, kernel_size=(1, 1), stride=(1, 1), bias=False)\n",
       "                (1): BatchNorm2d(112, eps=0.001, momentum=0.03, affine=True, track_running_stats=True)\n",
       "              )\n",
       "            )\n",
       "          )\n",
       "          (13): ConvNormActivation(\n",
       "            (0): Conv2d(112, 672, kernel_size=(1, 1), stride=(1, 1), bias=False)\n",
       "            (1): BatchNorm2d(672, eps=0.001, momentum=0.03, affine=True, track_running_stats=True)\n",
       "            (2): Hardswish()\n",
       "          )\n",
       "        )\n",
       "        (1): Sequential(\n",
       "          (0): Sequential(\n",
       "            (1): ConvNormActivation(\n",
       "              (0): Conv2d(672, 672, kernel_size=(5, 5), stride=(2, 2), padding=(2, 2), groups=672, bias=False)\n",
       "              (1): BatchNorm2d(672, eps=0.001, momentum=0.03, affine=True, track_running_stats=True)\n",
       "              (2): Hardswish()\n",
       "            )\n",
       "            (2): SqueezeExcitation(\n",
       "              (avgpool): AdaptiveAvgPool2d(output_size=1)\n",
       "              (fc1): Conv2d(672, 168, kernel_size=(1, 1), stride=(1, 1))\n",
       "              (fc2): Conv2d(168, 672, kernel_size=(1, 1), stride=(1, 1))\n",
       "              (activation): ReLU()\n",
       "              (scale_activation): Hardsigmoid()\n",
       "            )\n",
       "            (3): ConvNormActivation(\n",
       "              (0): Conv2d(672, 80, kernel_size=(1, 1), stride=(1, 1), bias=False)\n",
       "              (1): BatchNorm2d(80, eps=0.001, momentum=0.03, affine=True, track_running_stats=True)\n",
       "            )\n",
       "          )\n",
       "          (1): InvertedResidual(\n",
       "            (block): Sequential(\n",
       "              (0): ConvNormActivation(\n",
       "                (0): Conv2d(80, 480, kernel_size=(1, 1), stride=(1, 1), bias=False)\n",
       "                (1): BatchNorm2d(480, eps=0.001, momentum=0.03, affine=True, track_running_stats=True)\n",
       "                (2): Hardswish()\n",
       "              )\n",
       "              (1): ConvNormActivation(\n",
       "                (0): Conv2d(480, 480, kernel_size=(5, 5), stride=(1, 1), padding=(2, 2), groups=480, bias=False)\n",
       "                (1): BatchNorm2d(480, eps=0.001, momentum=0.03, affine=True, track_running_stats=True)\n",
       "                (2): Hardswish()\n",
       "              )\n",
       "              (2): SqueezeExcitation(\n",
       "                (avgpool): AdaptiveAvgPool2d(output_size=1)\n",
       "                (fc1): Conv2d(480, 120, kernel_size=(1, 1), stride=(1, 1))\n",
       "                (fc2): Conv2d(120, 480, kernel_size=(1, 1), stride=(1, 1))\n",
       "                (activation): ReLU()\n",
       "                (scale_activation): Hardsigmoid()\n",
       "              )\n",
       "              (3): ConvNormActivation(\n",
       "                (0): Conv2d(480, 80, kernel_size=(1, 1), stride=(1, 1), bias=False)\n",
       "                (1): BatchNorm2d(80, eps=0.001, momentum=0.03, affine=True, track_running_stats=True)\n",
       "              )\n",
       "            )\n",
       "          )\n",
       "          (2): InvertedResidual(\n",
       "            (block): Sequential(\n",
       "              (0): ConvNormActivation(\n",
       "                (0): Conv2d(80, 480, kernel_size=(1, 1), stride=(1, 1), bias=False)\n",
       "                (1): BatchNorm2d(480, eps=0.001, momentum=0.03, affine=True, track_running_stats=True)\n",
       "                (2): Hardswish()\n",
       "              )\n",
       "              (1): ConvNormActivation(\n",
       "                (0): Conv2d(480, 480, kernel_size=(5, 5), stride=(1, 1), padding=(2, 2), groups=480, bias=False)\n",
       "                (1): BatchNorm2d(480, eps=0.001, momentum=0.03, affine=True, track_running_stats=True)\n",
       "                (2): Hardswish()\n",
       "              )\n",
       "              (2): SqueezeExcitation(\n",
       "                (avgpool): AdaptiveAvgPool2d(output_size=1)\n",
       "                (fc1): Conv2d(480, 120, kernel_size=(1, 1), stride=(1, 1))\n",
       "                (fc2): Conv2d(120, 480, kernel_size=(1, 1), stride=(1, 1))\n",
       "                (activation): ReLU()\n",
       "                (scale_activation): Hardsigmoid()\n",
       "              )\n",
       "              (3): ConvNormActivation(\n",
       "                (0): Conv2d(480, 80, kernel_size=(1, 1), stride=(1, 1), bias=False)\n",
       "                (1): BatchNorm2d(80, eps=0.001, momentum=0.03, affine=True, track_running_stats=True)\n",
       "              )\n",
       "            )\n",
       "          )\n",
       "          (3): ConvNormActivation(\n",
       "            (0): Conv2d(80, 480, kernel_size=(1, 1), stride=(1, 1), bias=False)\n",
       "            (1): BatchNorm2d(480, eps=0.001, momentum=0.03, affine=True, track_running_stats=True)\n",
       "            (2): Hardswish()\n",
       "          )\n",
       "        )\n",
       "      )\n",
       "      (extra): ModuleList(\n",
       "        (0): Sequential(\n",
       "          (0): ConvNormActivation(\n",
       "            (0): Conv2d(480, 256, kernel_size=(1, 1), stride=(1, 1), bias=False)\n",
       "            (1): BatchNorm2d(256, eps=0.001, momentum=0.03, affine=True, track_running_stats=True)\n",
       "            (2): ReLU6(inplace=True)\n",
       "          )\n",
       "          (1): ConvNormActivation(\n",
       "            (0): Conv2d(256, 256, kernel_size=(3, 3), stride=(2, 2), padding=(1, 1), groups=256, bias=False)\n",
       "            (1): BatchNorm2d(256, eps=0.001, momentum=0.03, affine=True, track_running_stats=True)\n",
       "            (2): ReLU6(inplace=True)\n",
       "          )\n",
       "          (2): ConvNormActivation(\n",
       "            (0): Conv2d(256, 512, kernel_size=(1, 1), stride=(1, 1), bias=False)\n",
       "            (1): BatchNorm2d(512, eps=0.001, momentum=0.03, affine=True, track_running_stats=True)\n",
       "            (2): ReLU6(inplace=True)\n",
       "          )\n",
       "        )\n",
       "        (1): Sequential(\n",
       "          (0): ConvNormActivation(\n",
       "            (0): Conv2d(512, 128, kernel_size=(1, 1), stride=(1, 1), bias=False)\n",
       "            (1): BatchNorm2d(128, eps=0.001, momentum=0.03, affine=True, track_running_stats=True)\n",
       "            (2): ReLU6(inplace=True)\n",
       "          )\n",
       "          (1): ConvNormActivation(\n",
       "            (0): Conv2d(128, 128, kernel_size=(3, 3), stride=(2, 2), padding=(1, 1), groups=128, bias=False)\n",
       "            (1): BatchNorm2d(128, eps=0.001, momentum=0.03, affine=True, track_running_stats=True)\n",
       "            (2): ReLU6(inplace=True)\n",
       "          )\n",
       "          (2): ConvNormActivation(\n",
       "            (0): Conv2d(128, 256, kernel_size=(1, 1), stride=(1, 1), bias=False)\n",
       "            (1): BatchNorm2d(256, eps=0.001, momentum=0.03, affine=True, track_running_stats=True)\n",
       "            (2): ReLU6(inplace=True)\n",
       "          )\n",
       "        )\n",
       "        (2): Sequential(\n",
       "          (0): ConvNormActivation(\n",
       "            (0): Conv2d(256, 128, kernel_size=(1, 1), stride=(1, 1), bias=False)\n",
       "            (1): BatchNorm2d(128, eps=0.001, momentum=0.03, affine=True, track_running_stats=True)\n",
       "            (2): ReLU6(inplace=True)\n",
       "          )\n",
       "          (1): ConvNormActivation(\n",
       "            (0): Conv2d(128, 128, kernel_size=(3, 3), stride=(2, 2), padding=(1, 1), groups=128, bias=False)\n",
       "            (1): BatchNorm2d(128, eps=0.001, momentum=0.03, affine=True, track_running_stats=True)\n",
       "            (2): ReLU6(inplace=True)\n",
       "          )\n",
       "          (2): ConvNormActivation(\n",
       "            (0): Conv2d(128, 256, kernel_size=(1, 1), stride=(1, 1), bias=False)\n",
       "            (1): BatchNorm2d(256, eps=0.001, momentum=0.03, affine=True, track_running_stats=True)\n",
       "            (2): ReLU6(inplace=True)\n",
       "          )\n",
       "        )\n",
       "        (3): Sequential(\n",
       "          (0): ConvNormActivation(\n",
       "            (0): Conv2d(256, 64, kernel_size=(1, 1), stride=(1, 1), bias=False)\n",
       "            (1): BatchNorm2d(64, eps=0.001, momentum=0.03, affine=True, track_running_stats=True)\n",
       "            (2): ReLU6(inplace=True)\n",
       "          )\n",
       "          (1): ConvNormActivation(\n",
       "            (0): Conv2d(64, 64, kernel_size=(3, 3), stride=(2, 2), padding=(1, 1), groups=64, bias=False)\n",
       "            (1): BatchNorm2d(64, eps=0.001, momentum=0.03, affine=True, track_running_stats=True)\n",
       "            (2): ReLU6(inplace=True)\n",
       "          )\n",
       "          (2): ConvNormActivation(\n",
       "            (0): Conv2d(64, 128, kernel_size=(1, 1), stride=(1, 1), bias=False)\n",
       "            (1): BatchNorm2d(128, eps=0.001, momentum=0.03, affine=True, track_running_stats=True)\n",
       "            (2): ReLU6(inplace=True)\n",
       "          )\n",
       "        )\n",
       "      )\n",
       "    )\n",
       "    (anchor_generator): DefaultBoxGenerator(aspect_ratios=[[2, 3], [2, 3], [2, 3], [2, 3], [2, 3], [2, 3]], clip=True, scales=[0.2, 0.35, 0.5, 0.65, 0.8, 0.95, 1.0], steps=None)\n",
       "    (head): SSDLiteHead(\n",
       "      (classification_head): SSDLiteClassificationHead(\n",
       "        (module_list): ModuleList(\n",
       "          (0): Sequential(\n",
       "            (0): ConvNormActivation(\n",
       "              (0): Conv2d(672, 672, kernel_size=(3, 3), stride=(1, 1), padding=(1, 1), groups=672, bias=False)\n",
       "              (1): BatchNorm2d(672, eps=0.001, momentum=0.03, affine=True, track_running_stats=True)\n",
       "              (2): ReLU6(inplace=True)\n",
       "            )\n",
       "            (1): Conv2d(672, 12, kernel_size=(1, 1), stride=(1, 1))\n",
       "          )\n",
       "          (1): Sequential(\n",
       "            (0): ConvNormActivation(\n",
       "              (0): Conv2d(480, 480, kernel_size=(3, 3), stride=(1, 1), padding=(1, 1), groups=480, bias=False)\n",
       "              (1): BatchNorm2d(480, eps=0.001, momentum=0.03, affine=True, track_running_stats=True)\n",
       "              (2): ReLU6(inplace=True)\n",
       "            )\n",
       "            (1): Conv2d(480, 12, kernel_size=(1, 1), stride=(1, 1))\n",
       "          )\n",
       "          (2): Sequential(\n",
       "            (0): ConvNormActivation(\n",
       "              (0): Conv2d(512, 512, kernel_size=(3, 3), stride=(1, 1), padding=(1, 1), groups=512, bias=False)\n",
       "              (1): BatchNorm2d(512, eps=0.001, momentum=0.03, affine=True, track_running_stats=True)\n",
       "              (2): ReLU6(inplace=True)\n",
       "            )\n",
       "            (1): Conv2d(512, 12, kernel_size=(1, 1), stride=(1, 1))\n",
       "          )\n",
       "          (3): Sequential(\n",
       "            (0): ConvNormActivation(\n",
       "              (0): Conv2d(256, 256, kernel_size=(3, 3), stride=(1, 1), padding=(1, 1), groups=256, bias=False)\n",
       "              (1): BatchNorm2d(256, eps=0.001, momentum=0.03, affine=True, track_running_stats=True)\n",
       "              (2): ReLU6(inplace=True)\n",
       "            )\n",
       "            (1): Conv2d(256, 12, kernel_size=(1, 1), stride=(1, 1))\n",
       "          )\n",
       "          (4): Sequential(\n",
       "            (0): ConvNormActivation(\n",
       "              (0): Conv2d(256, 256, kernel_size=(3, 3), stride=(1, 1), padding=(1, 1), groups=256, bias=False)\n",
       "              (1): BatchNorm2d(256, eps=0.001, momentum=0.03, affine=True, track_running_stats=True)\n",
       "              (2): ReLU6(inplace=True)\n",
       "            )\n",
       "            (1): Conv2d(256, 12, kernel_size=(1, 1), stride=(1, 1))\n",
       "          )\n",
       "          (5): Sequential(\n",
       "            (0): ConvNormActivation(\n",
       "              (0): Conv2d(128, 128, kernel_size=(3, 3), stride=(1, 1), padding=(1, 1), groups=128, bias=False)\n",
       "              (1): BatchNorm2d(128, eps=0.001, momentum=0.03, affine=True, track_running_stats=True)\n",
       "              (2): ReLU6(inplace=True)\n",
       "            )\n",
       "            (1): Conv2d(128, 12, kernel_size=(1, 1), stride=(1, 1))\n",
       "          )\n",
       "        )\n",
       "      )\n",
       "      (regression_head): SSDLiteRegressionHead(\n",
       "        (module_list): ModuleList(\n",
       "          (0): Sequential(\n",
       "            (0): ConvNormActivation(\n",
       "              (0): Conv2d(672, 672, kernel_size=(3, 3), stride=(1, 1), padding=(1, 1), groups=672, bias=False)\n",
       "              (1): BatchNorm2d(672, eps=0.001, momentum=0.03, affine=True, track_running_stats=True)\n",
       "              (2): ReLU6(inplace=True)\n",
       "            )\n",
       "            (1): Conv2d(672, 24, kernel_size=(1, 1), stride=(1, 1))\n",
       "          )\n",
       "          (1): Sequential(\n",
       "            (0): ConvNormActivation(\n",
       "              (0): Conv2d(480, 480, kernel_size=(3, 3), stride=(1, 1), padding=(1, 1), groups=480, bias=False)\n",
       "              (1): BatchNorm2d(480, eps=0.001, momentum=0.03, affine=True, track_running_stats=True)\n",
       "              (2): ReLU6(inplace=True)\n",
       "            )\n",
       "            (1): Conv2d(480, 24, kernel_size=(1, 1), stride=(1, 1))\n",
       "          )\n",
       "          (2): Sequential(\n",
       "            (0): ConvNormActivation(\n",
       "              (0): Conv2d(512, 512, kernel_size=(3, 3), stride=(1, 1), padding=(1, 1), groups=512, bias=False)\n",
       "              (1): BatchNorm2d(512, eps=0.001, momentum=0.03, affine=True, track_running_stats=True)\n",
       "              (2): ReLU6(inplace=True)\n",
       "            )\n",
       "            (1): Conv2d(512, 24, kernel_size=(1, 1), stride=(1, 1))\n",
       "          )\n",
       "          (3): Sequential(\n",
       "            (0): ConvNormActivation(\n",
       "              (0): Conv2d(256, 256, kernel_size=(3, 3), stride=(1, 1), padding=(1, 1), groups=256, bias=False)\n",
       "              (1): BatchNorm2d(256, eps=0.001, momentum=0.03, affine=True, track_running_stats=True)\n",
       "              (2): ReLU6(inplace=True)\n",
       "            )\n",
       "            (1): Conv2d(256, 24, kernel_size=(1, 1), stride=(1, 1))\n",
       "          )\n",
       "          (4): Sequential(\n",
       "            (0): ConvNormActivation(\n",
       "              (0): Conv2d(256, 256, kernel_size=(3, 3), stride=(1, 1), padding=(1, 1), groups=256, bias=False)\n",
       "              (1): BatchNorm2d(256, eps=0.001, momentum=0.03, affine=True, track_running_stats=True)\n",
       "              (2): ReLU6(inplace=True)\n",
       "            )\n",
       "            (1): Conv2d(256, 24, kernel_size=(1, 1), stride=(1, 1))\n",
       "          )\n",
       "          (5): Sequential(\n",
       "            (0): ConvNormActivation(\n",
       "              (0): Conv2d(128, 128, kernel_size=(3, 3), stride=(1, 1), padding=(1, 1), groups=128, bias=False)\n",
       "              (1): BatchNorm2d(128, eps=0.001, momentum=0.03, affine=True, track_running_stats=True)\n",
       "              (2): ReLU6(inplace=True)\n",
       "            )\n",
       "            (1): Conv2d(128, 24, kernel_size=(1, 1), stride=(1, 1))\n",
       "          )\n",
       "        )\n",
       "      )\n",
       "    )\n",
       "    (transform): GeneralizedRCNNTransform(\n",
       "        Normalize(mean=[0.5, 0.5, 0.5], std=[0.5, 0.5, 0.5])\n",
       "        Resize(min_size=(320,), max_size=320, mode='bilinear')\n",
       "    )\n",
       "  )\n",
       ")"
      ]
     },
     "execution_count": 11,
     "metadata": {},
     "output_type": "execute_result"
    }
   ],
   "source": [
    "# ANPR implementation: SSD + OCR model\n",
    "import warnings\n",
    "warnings.filterwarnings('ignore')\n",
    "\n",
    "@accelerate_model()\n",
    "class ANPRv1(nn.Module):\n",
    "    def __init__(self, cl_count, ssd_weights_path = None):\n",
    "        super(ANPRv1, self).__init__()\n",
    "\n",
    "        # Detector, that suites my requests\n",
    "        self.ssd_model = torchvision.models.detection.ssdlite320_mobilenet_v3_large(num_classes = cl_count)\n",
    "        if ssd_weights_path is not None and os.path.exists(ssd_weights_path):\n",
    "            print('[+] Loading state of SSD model')\n",
    "            self.ssd_model = torch.load(ssd_weights_path, map_location=torch.device('cpu'))\n",
    "\n",
    "    # Gets image(s) as input, train_data on **train_mode**\n",
    "    # returns: **inference** recognised text on plate or None; **train** SSD's losses and ...\n",
    "    def forward(self, X, train_data = None):\n",
    "        if train_data is not None:\n",
    "            # Calculate\n",
    "            self.ssd_model.train()\n",
    "            reg_loss, clf_loss = self.ssd_model(X, train_data).values()\n",
    "            return reg_loss, clf_loss\n",
    "\n",
    "        else:\n",
    "            self.ssd_model.eval()\n",
    "            return self.ssd_model(X)\n",
    "\n",
    "# Load model from torchhub\n",
    "model = ANPRv1(n_classes)\n",
    "model.to(dev)"
   ]
  },
  {
   "cell_type": "code",
   "execution_count": 12,
   "id": "e37cd8ed",
   "metadata": {
    "execution": {
     "iopub.execute_input": "2022-07-17T02:47:24.889209Z",
     "iopub.status.busy": "2022-07-17T02:47:24.888911Z"
    },
    "id": "bft5p2n1MxJb",
    "outputId": "b07282ac-ffba-4fa1-f352-cc0c69e62c0a",
    "papermill": {
     "duration": null,
     "end_time": null,
     "exception": false,
     "start_time": "2022-07-17T02:47:24.877161",
     "status": "running"
    },
    "pycharm": {
     "name": "#%%\n"
    },
    "tags": []
   },
   "outputs": [
    {
     "name": "stderr",
     "output_type": "stream",
     "text": [
      "0.28480005264282227ms reg_loss: 3.99 | clf_loss: 3.26:   3%|▎         | 1/30 [01:42<49:28, 102.35s/it]"
     ]
    },
    {
     "name": "stdout",
     "output_type": "stream",
     "text": [
      "[epoch: 0] train_loss: 8.77 | val_mAP: f0.00\n"
     ]
    },
    {
     "name": "stderr",
     "output_type": "stream",
     "text": [
      "0.2102034091949463ms reg_loss: 3.79 | clf_loss: 2.77:   7%|▋         | 2/30 [03:14<44:59, 96.42s/it]  "
     ]
    },
    {
     "name": "stdout",
     "output_type": "stream",
     "text": [
      "[epoch: 1] train_loss: 6.98 | val_mAP: f0.00\n"
     ]
    },
    {
     "name": "stderr",
     "output_type": "stream",
     "text": [
      "0.20995807647705078ms reg_loss: 4.26 | clf_loss: 2.70:  10%|█         | 3/30 [05:03<45:53, 101.99s/it]"
     ]
    },
    {
     "name": "stdout",
     "output_type": "stream",
     "text": [
      "[epoch: 2] train_loss: 6.05 | val_mAP: f0.00\n"
     ]
    },
    {
     "name": "stderr",
     "output_type": "stream",
     "text": [
      "0.21211576461791992ms reg_loss: 3.06 | clf_loss: 2.32:  13%|█▎        | 4/30 [06:25<40:44, 94.03s/it] "
     ]
    },
    {
     "name": "stdout",
     "output_type": "stream",
     "text": [
      "[epoch: 3] train_loss: 5.23 | val_mAP: f0.00\n"
     ]
    },
    {
     "name": "stderr",
     "output_type": "stream",
     "text": [
      "0.21097564697265625ms reg_loss: 2.91 | clf_loss: 2.42:  17%|█▋        | 5/30 [08:11<41:05, 98.60s/it]"
     ]
    },
    {
     "name": "stdout",
     "output_type": "stream",
     "text": [
      "[epoch: 4] train_loss: 4.44 | val_mAP: f0.00\n"
     ]
    },
    {
     "name": "stderr",
     "output_type": "stream",
     "text": [
      "0.2110280990600586ms reg_loss: 1.47 | clf_loss: 2.06:  20%|██        | 6/30 [09:46<38:53, 97.23s/it] "
     ]
    },
    {
     "name": "stdout",
     "output_type": "stream",
     "text": [
      "[epoch: 5] train_loss: 3.65 | val_mAP: f0.01\n"
     ]
    },
    {
     "name": "stderr",
     "output_type": "stream",
     "text": [
      "0.21069979667663574ms reg_loss: 1.24 | clf_loss: 1.99:  23%|██▎       | 7/30 [11:20<36:52, 96.19s/it]"
     ]
    },
    {
     "name": "stdout",
     "output_type": "stream",
     "text": [
      "[epoch: 6] train_loss: 3.03 | val_mAP: f0.03\n"
     ]
    },
    {
     "name": "stderr",
     "output_type": "stream",
     "text": [
      "0.21047496795654297ms reg_loss: 1.04 | clf_loss: 1.78:  27%|██▋       | 8/30 [12:48<34:20, 93.65s/it]"
     ]
    },
    {
     "name": "stdout",
     "output_type": "stream",
     "text": [
      "[epoch: 7] train_loss: 2.68 | val_mAP: f0.04\n"
     ]
    },
    {
     "name": "stderr",
     "output_type": "stream",
     "text": [
      "0.21256303787231445ms reg_loss: 1.13 | clf_loss: 1.74:  30%|███       | 9/30 [14:16<32:09, 91.88s/it]"
     ]
    },
    {
     "name": "stdout",
     "output_type": "stream",
     "text": [
      "[epoch: 8] train_loss: 2.38 | val_mAP: f0.05\n"
     ]
    },
    {
     "name": "stderr",
     "output_type": "stream",
     "text": [
      "0.21036839485168457ms reg_loss: 0.89 | clf_loss: 1.78:  33%|███▎      | 10/30 [15:49<30:41, 92.07s/it]"
     ]
    },
    {
     "name": "stdout",
     "output_type": "stream",
     "text": [
      "[epoch: 9] train_loss: 2.10 | val_mAP: f0.05\n"
     ]
    },
    {
     "name": "stderr",
     "output_type": "stream",
     "text": [
      "0.210587739944458ms reg_loss: 0.59 | clf_loss: 1.22:  37%|███▋      | 11/30 [17:20<29:04, 91.84s/it]  "
     ]
    },
    {
     "name": "stdout",
     "output_type": "stream",
     "text": [
      "[epoch: 10] train_loss: 1.90 | val_mAP: f0.06\n"
     ]
    },
    {
     "name": "stderr",
     "output_type": "stream",
     "text": [
      "0.21130847930908203ms reg_loss: 0.44 | clf_loss: 1.25:  40%|████      | 12/30 [18:48<27:13, 90.77s/it]"
     ]
    },
    {
     "name": "stdout",
     "output_type": "stream",
     "text": [
      "[epoch: 11] train_loss: 1.72 | val_mAP: f0.07\n"
     ]
    },
    {
     "name": "stderr",
     "output_type": "stream",
     "text": [
      "0.21042919158935547ms reg_loss: 0.36 | clf_loss: 1.11:  43%|████▎     | 13/30 [20:16<25:27, 89.84s/it]"
     ]
    },
    {
     "name": "stdout",
     "output_type": "stream",
     "text": [
      "[epoch: 12] train_loss: 1.47 | val_mAP: f0.09\n"
     ]
    },
    {
     "name": "stderr",
     "output_type": "stream",
     "text": [
      "0.2097632884979248ms reg_loss: 0.41 | clf_loss: 1.49:  47%|████▋     | 14/30 [21:44<23:51, 89.44s/it] "
     ]
    },
    {
     "name": "stdout",
     "output_type": "stream",
     "text": [
      "[epoch: 13] train_loss: 1.33 | val_mAP: f0.09\n"
     ]
    },
    {
     "name": "stderr",
     "output_type": "stream",
     "text": [
      "0.2108612060546875ms reg_loss: 0.30 | clf_loss: 1.16:  50%|█████     | 15/30 [23:13<22:16, 89.13s/it] "
     ]
    },
    {
     "name": "stdout",
     "output_type": "stream",
     "text": [
      "[epoch: 14] train_loss: 1.24 | val_mAP: f0.09\n"
     ]
    },
    {
     "name": "stderr",
     "output_type": "stream",
     "text": [
      "0.2108604907989502ms reg_loss: 0.20 | clf_loss: 0.94:  53%|█████▎    | 16/30 [24:40<20:39, 88.51s/it] "
     ]
    },
    {
     "name": "stdout",
     "output_type": "stream",
     "text": [
      "[epoch: 15] train_loss: 1.19 | val_mAP: f0.09\n"
     ]
    },
    {
     "name": "stderr",
     "output_type": "stream",
     "text": [
      "0.20989036560058594ms reg_loss: 0.30 | clf_loss: 1.16:  57%|█████▋    | 17/30 [26:07<19:05, 88.12s/it]"
     ]
    },
    {
     "name": "stdout",
     "output_type": "stream",
     "text": [
      "[epoch: 16] train_loss: 1.15 | val_mAP: f0.09\n"
     ]
    },
    {
     "name": "stderr",
     "output_type": "stream",
     "text": [
      "0.2116377353668213ms reg_loss: 0.24 | clf_loss: 1.10:  60%|██████    | 18/30 [27:35<17:37, 88.10s/it] "
     ]
    },
    {
     "name": "stdout",
     "output_type": "stream",
     "text": [
      "[epoch: 17] train_loss: 1.11 | val_mAP: f0.09\n"
     ]
    },
    {
     "name": "stderr",
     "output_type": "stream",
     "text": [
      "0.211472749710083ms reg_loss: 0.25 | clf_loss: 1.23:  63%|██████▎   | 19/30 [29:03<16:06, 87.88s/it]  "
     ]
    },
    {
     "name": "stdout",
     "output_type": "stream",
     "text": [
      "[epoch: 18] train_loss: 1.10 | val_mAP: f0.09\n"
     ]
    },
    {
     "name": "stderr",
     "output_type": "stream",
     "text": [
      "0.23386216163635254ms reg_loss: 0.16 | clf_loss: 0.89:  67%|██████▋   | 20/30 [30:29<14:35, 87.59s/it]"
     ]
    },
    {
     "name": "stdout",
     "output_type": "stream",
     "text": [
      "[epoch: 19] train_loss: 1.06 | val_mAP: f0.09\n"
     ]
    },
    {
     "name": "stderr",
     "output_type": "stream",
     "text": [
      "0.2118844985961914ms reg_loss: 0.16 | clf_loss: 1.01:  70%|███████   | 21/30 [31:56<13:06, 87.34s/it] "
     ]
    },
    {
     "name": "stdout",
     "output_type": "stream",
     "text": [
      "[epoch: 20] train_loss: 1.02 | val_mAP: f0.09\n"
     ]
    },
    {
     "name": "stderr",
     "output_type": "stream",
     "text": [
      "0.2113487720489502ms reg_loss: 0.23 | clf_loss: 0.92:  73%|███████▎  | 22/30 [33:22<11:35, 86.98s/it] "
     ]
    },
    {
     "name": "stdout",
     "output_type": "stream",
     "text": [
      "[epoch: 21] train_loss: 0.99 | val_mAP: f0.09\n"
     ]
    },
    {
     "name": "stderr",
     "output_type": "stream",
     "text": [
      "0.2121891975402832ms reg_loss: 0.18 | clf_loss: 0.95:  77%|███████▋  | 23/30 [34:52<10:13, 87.67s/it] "
     ]
    },
    {
     "name": "stdout",
     "output_type": "stream",
     "text": [
      "[epoch: 22] train_loss: 0.99 | val_mAP: f0.09\n"
     ]
    },
    {
     "name": "stderr",
     "output_type": "stream",
     "text": [
      "0.2109510898590088ms reg_loss: 0.14 | clf_loss: 0.94:  80%|████████  | 24/30 [36:18<08:44, 87.41s/it] "
     ]
    }
   ],
   "source": [
    "# Training function for my model\n",
    "def model_train_v1(dl_tr, dl_vl, model: ANPRv1, optim, scheduler, epochs_count = 30, alpha = 0.8):\n",
    "    t_bar = tqdm.tqdm(range(epochs_count))\n",
    "\n",
    "    # Run for N epochs\n",
    "    for epoch_n in t_bar:\n",
    "        av_losses = 0.0\n",
    "        map_scores = 0.0\n",
    "        map_score = MeanAveragePrecision()\n",
    "\n",
    "        # [Train]\n",
    "        for X_batch, train_data_batch in dl_tr:\n",
    "            # Switch the device\n",
    "            start_time = time.time()\n",
    "            X_batch = [t.to(dev) for t in X_batch]\n",
    "\n",
    "            # Calculate loss\n",
    "            reg_loss, clf_loss = model(X_batch, train_data_batch)\n",
    "            ssd_loss = reg_loss + alpha * clf_loss\n",
    "\n",
    "            # Backpropagation\n",
    "            optim.zero_grad()\n",
    "            ssd_loss.backward()\n",
    "            optim.step()\n",
    "\n",
    "            av_losses += ssd_loss.item()\n",
    "            status = f'{(time.time() - start_time)}ms reg_loss: {reg_loss:.2f} | clf_loss: {clf_loss:.2f}'\n",
    "            t_bar.set_description(status)\n",
    "\n",
    "        scheduler.step()\n",
    "\n",
    "        # [Evaluate]\n",
    "        with torch.inference_mode():\n",
    "            for X_batch, targets in dl_vl:\n",
    "                # Switching the device... again...\n",
    "                X_batch = [t.to(dev) for t in X_batch]\n",
    "\n",
    "                # Calculate metrics\n",
    "                predictions  = model(X_batch)\n",
    "                map_score.update(predictions, targets)\n",
    "                map_scores += map_score.compute()['map']\n",
    "\n",
    "\n",
    "        # Update epoch's info\n",
    "        epoch_status = f'[epoch: {epoch_n}] train_loss: {av_losses / len(dl_tr):.2f} | val_mAP: f{map_scores / len(dl_vl):.2f}'\n",
    "        print(epoch_status)\n",
    "\n",
    "\n",
    "if train_q:\n",
    "    # Select some options\n",
    "    optimizer = torch.optim.AdamW(model.parameters(), lr= 3e-4)\n",
    "    scheduler = torch.optim.lr_scheduler.StepLR(optimizer, step_size=12, gamma=0.1)\n",
    "\n",
    "\n",
    "    # Run training\n",
    "    model_train_v1(dl_train, dl_test, model, optimizer, scheduler)\n",
    "\n",
    "    # Save the model\n",
    "    model.ssd_model.eval()\n",
    "    torch.save(model.ssd_model, 'conceptB_ANPRv1.pt')\n",
    "\n",
    "!nvidia-smi"
   ]
  },
  {
   "cell_type": "code",
   "execution_count": null,
   "id": "442a03cd",
   "metadata": {
    "execution": {
     "iopub.status.busy": "2022-07-17T02:45:46.908903Z",
     "iopub.status.idle": "2022-07-17T02:45:46.912351Z",
     "shell.execute_reply": "2022-07-17T02:45:46.912073Z",
     "shell.execute_reply.started": "2022-07-17T02:45:46.912033Z"
    },
    "id": "hy7a3Z3oOus0",
    "outputId": "ee29026e-ab03-428e-f42d-0f7c406ad2e3",
    "papermill": {
     "duration": null,
     "end_time": null,
     "exception": null,
     "start_time": null,
     "status": "pending"
    },
    "pycharm": {
     "name": "#%%\n"
    },
    "tags": []
   },
   "outputs": [],
   "source": [
    "# Test images\n",
    "!wget https://s26.migalki.net/upload/1000/2022/04/20/52b911015eebb97f2795adf4011e8010.jpg\n",
    "dev = 'cpu'\n",
    "model.to(dev)\n",
    "idx = random.randint(0, len(ds_test) - 1)\n",
    "print(f'Image: {idx}')\n",
    "curr_img, train_data = ds_test[idx]\n",
    "curr_img = trfs.ToTensor()(Image.open('52b911015eebb97f2795adf4011e8010.jpg').convert('RGB'))\n",
    "\n",
    "with torch.inference_mode():\n",
    "  res = model(curr_img.unsqueeze(0).to(dev))\n",
    "  res = res[0]\n",
    "  plot_detection(curr_img, res['boxes'][:2].cpu(), res[\"scores\"][:2].cpu(), title = f'Max: {100 * res[\"scores\"][0]:.2f}%')"
   ]
  },
  {
   "cell_type": "code",
   "execution_count": null,
   "id": "172fd3d9",
   "metadata": {
    "execution": {
     "iopub.status.busy": "2022-07-17T02:45:46.916483Z",
     "iopub.status.idle": "2022-07-17T02:45:46.920452Z",
     "shell.execute_reply": "2022-07-17T02:45:46.920201Z",
     "shell.execute_reply.started": "2022-07-17T02:45:46.920174Z"
    },
    "id": "5HJRVl-_Pvrq",
    "papermill": {
     "duration": null,
     "end_time": null,
     "exception": null,
     "start_time": null,
     "status": "pending"
    },
    "pycharm": {
     "name": "#%%\n"
    },
    "tags": []
   },
   "outputs": [],
   "source": [
    "model.ssd_model.eval()\n",
    "torch.save(model.ssd_model, 'better_ssd_ANPRv1_cpu.pt')"
   ]
  },
  {
   "cell_type": "code",
   "execution_count": null,
   "id": "c039a8ee",
   "metadata": {
    "id": "9S5PwpxNFUyB",
    "papermill": {
     "duration": null,
     "end_time": null,
     "exception": null,
     "start_time": null,
     "status": "pending"
    },
    "pycharm": {
     "name": "#%%\n"
    },
    "tags": []
   },
   "outputs": [],
   "source": []
  }
 ],
 "metadata": {
  "kernelspec": {
   "display_name": "Python 3 (ipykernel)",
   "language": "python",
   "name": "python3"
  },
  "language_info": {
   "codemirror_mode": {
    "name": "ipython",
    "version": 3
   },
   "file_extension": ".py",
   "mimetype": "text/x-python",
   "name": "python",
   "nbconvert_exporter": "python",
   "pygments_lexer": "ipython3",
   "version": "3.9.13"
  },
  "papermill": {
   "default_parameters": {},
   "duration": null,
   "end_time": null,
   "environment_variables": {},
   "exception": null,
   "input_path": "__notebook__.ipynb",
   "output_path": "__notebook__.ipynb",
   "parameters": {},
   "start_time": "2022-07-17T02:46:33.803647",
   "version": "2.3.4"
  },
  "varInspector": {
   "cols": {
    "lenName": 16,
    "lenType": 16,
    "lenVar": 40
   },
   "kernels_config": {
    "python": {
     "delete_cmd_postfix": "",
     "delete_cmd_prefix": "del ",
     "library": "var_list.py",
     "varRefreshCmd": "print(var_dic_list())"
    },
    "r": {
     "delete_cmd_postfix": ") ",
     "delete_cmd_prefix": "rm(",
     "library": "var_list.r",
     "varRefreshCmd": "cat(var_dic_list()) "
    }
   },
   "types_to_exclude": [
    "module",
    "function",
    "builtin_function_or_method",
    "instance",
    "_Feature"
   ],
   "window_display": false
  }
 },
 "nbformat": 4,
 "nbformat_minor": 5
}
