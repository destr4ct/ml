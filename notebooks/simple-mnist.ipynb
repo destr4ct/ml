{
 "cells": [
  {
   "cell_type": "code",
   "execution_count": 1,
   "id": "92fb1261",
   "metadata": {
    "execution": {
     "iopub.execute_input": "2022-06-16T07:58:03.352075Z",
     "iopub.status.busy": "2022-06-16T07:58:03.351390Z",
     "iopub.status.idle": "2022-06-16T07:58:09.224603Z",
     "shell.execute_reply": "2022-06-16T07:58:09.223723Z"
    },
    "papermill": {
     "duration": 5.880636,
     "end_time": "2022-06-16T07:58:09.226975",
     "exception": false,
     "start_time": "2022-06-16T07:58:03.346339",
     "status": "completed"
    },
    "tags": []
   },
   "outputs": [],
   "source": [
    "# pytorch is consuming so much ram, so, I've selected the tensorflow\n",
    "\n",
    "import numpy as np\n",
    "import pandas as pd\n",
    "import seaborn as sns\n",
    "import tensorflow as ts\n",
    "import tensorflow.keras as ks\n",
    "import matplotlib.pyplot as plt\n",
    "from sklearn.model_selection import train_test_split\n",
    "from keras.utils.np_utils import to_categorical\n",
    "\n",
    "pd.set_option('display.max_columns', 784)"
   ]
  },
  {
   "cell_type": "markdown",
   "id": "92fd7709",
   "metadata": {
    "papermill": {
     "duration": 0.002662,
     "end_time": "2022-06-16T07:58:09.235089",
     "exception": false,
     "start_time": "2022-06-16T07:58:09.232427",
     "status": "completed"
    },
    "tags": []
   },
   "source": [
    "#### Normalizing and reshaping the dataset"
   ]
  },
  {
   "cell_type": "code",
   "execution_count": 2,
   "id": "13b42c8c",
   "metadata": {
    "execution": {
     "iopub.execute_input": "2022-06-16T07:58:09.242347Z",
     "iopub.status.busy": "2022-06-16T07:58:09.241466Z",
     "iopub.status.idle": "2022-06-16T07:58:14.568007Z",
     "shell.execute_reply": "2022-06-16T07:58:14.567163Z"
    },
    "papermill": {
     "duration": 5.332222,
     "end_time": "2022-06-16T07:58:14.570050",
     "exception": false,
     "start_time": "2022-06-16T07:58:09.237828",
     "status": "completed"
    },
    "tags": []
   },
   "outputs": [],
   "source": [
    "df_path         = '../input/digit-recognizer/'\n",
    "im_shape = (28, 28, 1)\n",
    "\n",
    "out_df = pd.read_csv(df_path + 'sample_submission.csv')\n",
    "out_df.set_index('ImageId', inplace = True)\n",
    "\n",
    "def prepare_data(df: pd.DataFrame, train = False):\n",
    "    x_train = y_train = None\n",
    "    \n",
    "    if train:\n",
    "        y_train = df['label']\n",
    "        y_train = to_categorical(y_train, num_classes = 10)\n",
    "        x_train = df.drop('label', axis=1, inplace=False)\n",
    "    else:\n",
    "        x_train = df\n",
    "    \n",
    "    # There is no semantic loss but convolutions **cores** will contain sane numbers\n",
    "    x_train = x_train / 255\n",
    "    \n",
    "    # (rows, 28, 28, 1) \n",
    "    x_train = x_train.values.reshape(-1, *im_shape)\n",
    "    \n",
    "    return x_train, y_train\n",
    "\n",
    "x_test, _        = prepare_data(pd.read_csv(df_path + 'test.csv'))\n",
    "x_train, y_train = prepare_data(pd.read_csv(df_path + 'train.csv'),  train=True)\n",
    "\n",
    "x_train_splitted, x_test_splitted, y_train_splitted, y_test_splitted = train_test_split(\n",
    "    x_train, y_train, test_size = 0.2\n",
    ")"
   ]
  },
  {
   "cell_type": "markdown",
   "id": "3f4125d5",
   "metadata": {
    "papermill": {
     "duration": 0.003119,
     "end_time": "2022-06-16T07:58:14.576378",
     "exception": false,
     "start_time": "2022-06-16T07:58:14.573259",
     "status": "completed"
    },
    "tags": []
   },
   "source": [
    "#### Creating CNN model using the keras api"
   ]
  },
  {
   "cell_type": "code",
   "execution_count": 3,
   "id": "6c3e1bbf",
   "metadata": {
    "execution": {
     "iopub.execute_input": "2022-06-16T07:58:14.583803Z",
     "iopub.status.busy": "2022-06-16T07:58:14.583465Z",
     "iopub.status.idle": "2022-06-16T07:58:14.591055Z",
     "shell.execute_reply": "2022-06-16T07:58:14.590181Z"
    },
    "papermill": {
     "duration": 0.014189,
     "end_time": "2022-06-16T07:58:14.593701",
     "exception": false,
     "start_time": "2022-06-16T07:58:14.579512",
     "status": "completed"
    },
    "tags": []
   },
   "outputs": [
    {
     "name": "stderr",
     "output_type": "stream",
     "text": [
      "/opt/conda/lib/python3.7/site-packages/keras_preprocessing/image/image_data_generator.py:337: UserWarning: This ImageDataGenerator specifies `zca_whitening`, which overrides setting of `featurewise_center`.\n",
      "  warnings.warn('This ImageDataGenerator specifies '\n"
     ]
    }
   ],
   "source": [
    "from keras.preprocessing.image import ImageDataGenerator\n",
    "\n",
    "# augmentation setup\n",
    "mnist_datagen = ImageDataGenerator(\n",
    "        samplewise_center              = False, \n",
    "        featurewise_std_normalization  = False,  \n",
    "        samplewise_std_normalization   = False,  \n",
    "        zca_whitening                  = True,  \n",
    "        horizontal_flip                = False,  \n",
    "        vertical_flip                   = False,\n",
    "    \n",
    "        rotation_range                 = 10,  \n",
    "        width_shift_range              = 0.1,  \n",
    "        height_shift_range             = 0.1, \n",
    ")"
   ]
  },
  {
   "cell_type": "code",
   "execution_count": 4,
   "id": "1f55a5d1",
   "metadata": {
    "execution": {
     "iopub.execute_input": "2022-06-16T07:58:14.600608Z",
     "iopub.status.busy": "2022-06-16T07:58:14.600361Z",
     "iopub.status.idle": "2022-06-16T07:58:17.413854Z",
     "shell.execute_reply": "2022-06-16T07:58:17.411240Z"
    },
    "papermill": {
     "duration": 2.819307,
     "end_time": "2022-06-16T07:58:17.415820",
     "exception": false,
     "start_time": "2022-06-16T07:58:14.596513",
     "status": "completed"
    },
    "tags": []
   },
   "outputs": [
    {
     "name": "stderr",
     "output_type": "stream",
     "text": [
      "2022-06-16 07:58:14.688944: I tensorflow/stream_executor/cuda/cuda_gpu_executor.cc:937] successful NUMA node read from SysFS had negative value (-1), but there must be at least one NUMA node, so returning NUMA node zero\n",
      "2022-06-16 07:58:14.789507: I tensorflow/stream_executor/cuda/cuda_gpu_executor.cc:937] successful NUMA node read from SysFS had negative value (-1), but there must be at least one NUMA node, so returning NUMA node zero\n",
      "2022-06-16 07:58:14.790477: I tensorflow/stream_executor/cuda/cuda_gpu_executor.cc:937] successful NUMA node read from SysFS had negative value (-1), but there must be at least one NUMA node, so returning NUMA node zero\n",
      "2022-06-16 07:58:14.791711: I tensorflow/core/platform/cpu_feature_guard.cc:142] This TensorFlow binary is optimized with oneAPI Deep Neural Network Library (oneDNN) to use the following CPU instructions in performance-critical operations:  AVX2 AVX512F FMA\n",
      "To enable them in other operations, rebuild TensorFlow with the appropriate compiler flags.\n",
      "2022-06-16 07:58:14.792032: I tensorflow/stream_executor/cuda/cuda_gpu_executor.cc:937] successful NUMA node read from SysFS had negative value (-1), but there must be at least one NUMA node, so returning NUMA node zero\n",
      "2022-06-16 07:58:14.792705: I tensorflow/stream_executor/cuda/cuda_gpu_executor.cc:937] successful NUMA node read from SysFS had negative value (-1), but there must be at least one NUMA node, so returning NUMA node zero\n",
      "2022-06-16 07:58:14.793357: I tensorflow/stream_executor/cuda/cuda_gpu_executor.cc:937] successful NUMA node read from SysFS had negative value (-1), but there must be at least one NUMA node, so returning NUMA node zero\n",
      "2022-06-16 07:58:16.820747: I tensorflow/stream_executor/cuda/cuda_gpu_executor.cc:937] successful NUMA node read from SysFS had negative value (-1), but there must be at least one NUMA node, so returning NUMA node zero\n",
      "2022-06-16 07:58:16.822032: I tensorflow/stream_executor/cuda/cuda_gpu_executor.cc:937] successful NUMA node read from SysFS had negative value (-1), but there must be at least one NUMA node, so returning NUMA node zero\n",
      "2022-06-16 07:58:16.823153: I tensorflow/stream_executor/cuda/cuda_gpu_executor.cc:937] successful NUMA node read from SysFS had negative value (-1), but there must be at least one NUMA node, so returning NUMA node zero\n",
      "2022-06-16 07:58:16.824074: I tensorflow/core/common_runtime/gpu/gpu_device.cc:1510] Created device /job:localhost/replica:0/task:0/device:GPU:0 with 15403 MB memory:  -> device: 0, name: Tesla P100-PCIE-16GB, pci bus id: 0000:00:04.0, compute capability: 6.0\n"
     ]
    },
    {
     "name": "stdout",
     "output_type": "stream",
     "text": [
      "Model: \"sequential\"\n",
      "_________________________________________________________________\n",
      "Layer (type)                 Output Shape              Param #   \n",
      "=================================================================\n",
      "conv2d (Conv2D)              (None, 26, 26, 64)        640       \n",
      "_________________________________________________________________\n",
      "batch_normalization (BatchNo (None, 26, 26, 64)        256       \n",
      "_________________________________________________________________\n",
      "conv2d_1 (Conv2D)            (None, 24, 24, 64)        36928     \n",
      "_________________________________________________________________\n",
      "batch_normalization_1 (Batch (None, 24, 24, 64)        256       \n",
      "_________________________________________________________________\n",
      "max_pooling2d (MaxPooling2D) (None, 12, 12, 64)        0         \n",
      "_________________________________________________________________\n",
      "dropout (Dropout)            (None, 12, 12, 64)        0         \n",
      "_________________________________________________________________\n",
      "conv2d_2 (Conv2D)            (None, 10, 10, 128)       73856     \n",
      "_________________________________________________________________\n",
      "batch_normalization_2 (Batch (None, 10, 10, 128)       512       \n",
      "_________________________________________________________________\n",
      "conv2d_3 (Conv2D)            (None, 8, 8, 128)         147584    \n",
      "_________________________________________________________________\n",
      "batch_normalization_3 (Batch (None, 8, 8, 128)         512       \n",
      "_________________________________________________________________\n",
      "max_pooling2d_1 (MaxPooling2 (None, 4, 4, 128)         0         \n",
      "_________________________________________________________________\n",
      "dropout_1 (Dropout)          (None, 4, 4, 128)         0         \n",
      "_________________________________________________________________\n",
      "flatten (Flatten)            (None, 2048)              0         \n",
      "_________________________________________________________________\n",
      "dense (Dense)                (None, 1024)              2098176   \n",
      "_________________________________________________________________\n",
      "dropout_2 (Dropout)          (None, 1024)              0         \n",
      "_________________________________________________________________\n",
      "batch_normalization_4 (Batch (None, 1024)              4096      \n",
      "_________________________________________________________________\n",
      "dense_1 (Dense)              (None, 10)                10250     \n",
      "=================================================================\n",
      "Total params: 2,373,066\n",
      "Trainable params: 2,370,250\n",
      "Non-trainable params: 2,816\n",
      "_________________________________________________________________\n"
     ]
    }
   ],
   "source": [
    "# learning options\n",
    "epoch_count = 150\n",
    "prefered_batch_size  = 256\n",
    "\n",
    "model_options = {\n",
    "    'optimizer': 'adam',\n",
    "    'metrics':   'accuracy',                  \n",
    "    'loss':      'categorical_crossentropy'  # awesome loss-function for multiclass classification\n",
    "}\n",
    "lrelu = lambda x: ks.layers.LeakyReLU(alpha = 0.01)(x)\n",
    "\n",
    "conv_setup = {\n",
    "    'kernel_size': 3,\n",
    "    'strides':     1,               \n",
    "    'activation': 'relu'\n",
    "}\n",
    "\n",
    "lr_model = ks.Sequential()\n",
    "# -----------------------------------------------------------------  # C1\n",
    "lr_model.add(ks.layers.Conv2D(\n",
    "    filters     = 64,              \n",
    "    input_shape = im_shape,\n",
    "    **conv_setup\n",
    "))\n",
    "lr_model.add(ks.layers.BatchNormalization())\n",
    "\n",
    "lr_model.add(ks.layers.Conv2D(\n",
    "    filters     = 64,\n",
    "    **conv_setup\n",
    "))\n",
    "lr_model.add(ks.layers.BatchNormalization())\n",
    "\n",
    "lr_model.add(ks.layers.MaxPool2D()) \n",
    "lr_model.add(ks.layers.Dropout(0.4))\n",
    "\n",
    "# -----------------------------------------------------------------  # C2\n",
    "lr_model.add(ks.layers.Conv2D(\n",
    "    filters     = 128,\n",
    "    **conv_setup\n",
    "))\n",
    "lr_model.add(ks.layers.BatchNormalization())\n",
    "\n",
    "lr_model.add(ks.layers.Conv2D(\n",
    "    filters     = 128,\n",
    "    **conv_setup\n",
    "))\n",
    "lr_model.add(ks.layers.BatchNormalization())\n",
    "\n",
    "lr_model.add(ks.layers.MaxPool2D())\n",
    "lr_model.add(ks.layers.Dropout(0.4))\n",
    "\n",
    "# -----------------------------------------------------------------  # Classifier part\n",
    "lr_model.add(ks.layers.Flatten())   \n",
    "lr_model.add(ks.layers.Dense(\n",
    "    1024, activation = 'swish'\n",
    "))\n",
    "lr_model.add(ks.layers.Dropout(0.4))\n",
    "lr_model.add(ks.layers.BatchNormalization())\n",
    "\n",
    "# -----------------------------------------------------------------  # Output layer\n",
    "lr_model.add(ks.layers.Dense(\n",
    "    10, activation='softmax'        # 10 classes\n",
    "))\n",
    "\n",
    "# Assembly model\n",
    "lr_model.compile(**model_options)\n",
    "lr_model.summary()"
   ]
  },
  {
   "cell_type": "code",
   "execution_count": 5,
   "id": "d6995cff",
   "metadata": {
    "execution": {
     "iopub.execute_input": "2022-06-16T07:58:17.423802Z",
     "iopub.status.busy": "2022-06-16T07:58:17.423008Z",
     "iopub.status.idle": "2022-06-16T08:14:32.495587Z",
     "shell.execute_reply": "2022-06-16T08:14:32.494755Z"
    },
    "papermill": {
     "duration": 975.078434,
     "end_time": "2022-06-16T08:14:32.497551",
     "exception": false,
     "start_time": "2022-06-16T07:58:17.419117",
     "status": "completed"
    },
    "tags": []
   },
   "outputs": [
    {
     "name": "stderr",
     "output_type": "stream",
     "text": [
      "/opt/conda/lib/python3.7/site-packages/keras/engine/training.py:1972: UserWarning: `Model.fit_generator` is deprecated and will be removed in a future version. Please use `Model.fit`, which supports generators.\n",
      "  warnings.warn('`Model.fit_generator` is deprecated and '\n",
      "/opt/conda/lib/python3.7/site-packages/keras_preprocessing/image/image_data_generator.py:720: UserWarning: This ImageDataGenerator specifies `featurewise_center`, but it hasn't been fit on any training data. Fit it first by calling `.fit(numpy_data)`.\n",
      "  warnings.warn('This ImageDataGenerator specifies '\n",
      "/opt/conda/lib/python3.7/site-packages/keras_preprocessing/image/image_data_generator.py:739: UserWarning: This ImageDataGenerator specifies `zca_whitening`, but it hasn't been fit on any training data. Fit it first by calling `.fit(numpy_data)`.\n",
      "  warnings.warn('This ImageDataGenerator specifies '\n",
      "2022-06-16 07:58:17.593455: I tensorflow/compiler/mlir/mlir_graph_optimization_pass.cc:185] None of the MLIR Optimization Passes are enabled (registered 2)\n"
     ]
    },
    {
     "name": "stdout",
     "output_type": "stream",
     "text": [
      "Epoch 1/100\n"
     ]
    },
    {
     "name": "stderr",
     "output_type": "stream",
     "text": [
      "2022-06-16 07:58:19.350036: I tensorflow/stream_executor/cuda/cuda_dnn.cc:369] Loaded cuDNN version 8005\n"
     ]
    },
    {
     "name": "stdout",
     "output_type": "stream",
     "text": [
      "131/131 [==============================] - 16s 67ms/step - loss: 0.3865 - accuracy: 0.8788 - val_loss: 14.6610 - val_accuracy: 0.1067\n",
      "Epoch 2/100\n",
      "131/131 [==============================] - 8s 62ms/step - loss: 0.1113 - accuracy: 0.9649 - val_loss: 12.3652 - val_accuracy: 0.1067\n",
      "Epoch 3/100\n",
      "131/131 [==============================] - 9s 69ms/step - loss: 0.0767 - accuracy: 0.9763 - val_loss: 6.5125 - val_accuracy: 0.1207\n",
      "Epoch 4/100\n",
      "131/131 [==============================] - 8s 64ms/step - loss: 0.0637 - accuracy: 0.9794 - val_loss: 0.3973 - val_accuracy: 0.8821\n",
      "Epoch 5/100\n",
      "131/131 [==============================] - 9s 70ms/step - loss: 0.0552 - accuracy: 0.9818 - val_loss: 0.0438 - val_accuracy: 0.9871\n",
      "Epoch 6/100\n",
      "131/131 [==============================] - 8s 64ms/step - loss: 0.0495 - accuracy: 0.9851 - val_loss: 0.0266 - val_accuracy: 0.9921\n",
      "Epoch 7/100\n",
      "131/131 [==============================] - 8s 64ms/step - loss: 0.0440 - accuracy: 0.9856 - val_loss: 0.0326 - val_accuracy: 0.9907\n",
      "Epoch 8/100\n",
      "131/131 [==============================] - 9s 67ms/step - loss: 0.0435 - accuracy: 0.9866 - val_loss: 0.0282 - val_accuracy: 0.9918\n",
      "Epoch 9/100\n",
      "131/131 [==============================] - 9s 67ms/step - loss: 0.0402 - accuracy: 0.9876 - val_loss: 0.0266 - val_accuracy: 0.9920\n",
      "Epoch 10/100\n",
      "131/131 [==============================] - 8s 64ms/step - loss: 0.0363 - accuracy: 0.9883 - val_loss: 0.0230 - val_accuracy: 0.9933\n",
      "Epoch 11/100\n",
      "131/131 [==============================] - 8s 64ms/step - loss: 0.0420 - accuracy: 0.9867 - val_loss: 0.0238 - val_accuracy: 0.9931\n",
      "Epoch 12/100\n",
      "131/131 [==============================] - 10s 77ms/step - loss: 0.0359 - accuracy: 0.9887 - val_loss: 0.0237 - val_accuracy: 0.9942\n",
      "Epoch 13/100\n",
      "131/131 [==============================] - 8s 64ms/step - loss: 0.0359 - accuracy: 0.9886 - val_loss: 0.0253 - val_accuracy: 0.9937\n",
      "Epoch 14/100\n",
      "131/131 [==============================] - 8s 62ms/step - loss: 0.0334 - accuracy: 0.9894 - val_loss: 0.0311 - val_accuracy: 0.9913\n",
      "Epoch 15/100\n",
      "131/131 [==============================] - 9s 66ms/step - loss: 0.0305 - accuracy: 0.9905 - val_loss: 0.0266 - val_accuracy: 0.9926\n",
      "Epoch 16/100\n",
      "131/131 [==============================] - 8s 64ms/step - loss: 0.0287 - accuracy: 0.9910 - val_loss: 0.0254 - val_accuracy: 0.9925\n",
      "Epoch 17/100\n",
      "131/131 [==============================] - 8s 63ms/step - loss: 0.0314 - accuracy: 0.9898 - val_loss: 0.0228 - val_accuracy: 0.9932\n",
      "Epoch 18/100\n",
      "131/131 [==============================] - 9s 68ms/step - loss: 0.0305 - accuracy: 0.9903 - val_loss: 0.0223 - val_accuracy: 0.9948\n",
      "Epoch 19/100\n",
      "131/131 [==============================] - 9s 72ms/step - loss: 0.0279 - accuracy: 0.9909 - val_loss: 0.0289 - val_accuracy: 0.9920\n",
      "Epoch 20/100\n",
      "131/131 [==============================] - 8s 65ms/step - loss: 0.0250 - accuracy: 0.9919 - val_loss: 0.0290 - val_accuracy: 0.9921\n",
      "Epoch 21/100\n",
      "131/131 [==============================] - 8s 63ms/step - loss: 0.0236 - accuracy: 0.9928 - val_loss: 0.0257 - val_accuracy: 0.9936\n",
      "Epoch 22/100\n",
      "131/131 [==============================] - 9s 70ms/step - loss: 0.0284 - accuracy: 0.9911 - val_loss: 0.0307 - val_accuracy: 0.9917\n",
      "Epoch 23/100\n",
      "131/131 [==============================] - 8s 63ms/step - loss: 0.0250 - accuracy: 0.9916 - val_loss: 0.0241 - val_accuracy: 0.9931\n",
      "Epoch 24/100\n",
      "131/131 [==============================] - 9s 67ms/step - loss: 0.0277 - accuracy: 0.9915 - val_loss: 0.0226 - val_accuracy: 0.9935\n",
      "Epoch 25/100\n",
      "131/131 [==============================] - 8s 65ms/step - loss: 0.0239 - accuracy: 0.9923 - val_loss: 0.0285 - val_accuracy: 0.9918\n",
      "Epoch 26/100\n",
      "131/131 [==============================] - 9s 67ms/step - loss: 0.0226 - accuracy: 0.9927 - val_loss: 0.0245 - val_accuracy: 0.9931\n",
      "Epoch 27/100\n",
      "131/131 [==============================] - 9s 68ms/step - loss: 0.0254 - accuracy: 0.9920 - val_loss: 0.0242 - val_accuracy: 0.9929\n",
      "Epoch 28/100\n",
      "131/131 [==============================] - 8s 63ms/step - loss: 0.0238 - accuracy: 0.9924 - val_loss: 0.0230 - val_accuracy: 0.9939\n",
      "Epoch 29/100\n",
      "131/131 [==============================] - 9s 69ms/step - loss: 0.0219 - accuracy: 0.9931 - val_loss: 0.0246 - val_accuracy: 0.9944\n",
      "Epoch 30/100\n",
      "131/131 [==============================] - 10s 73ms/step - loss: 0.0229 - accuracy: 0.9924 - val_loss: 0.0243 - val_accuracy: 0.9929\n",
      "Epoch 31/100\n",
      "131/131 [==============================] - 8s 64ms/step - loss: 0.0221 - accuracy: 0.9930 - val_loss: 0.0264 - val_accuracy: 0.9926\n",
      "Epoch 32/100\n",
      "131/131 [==============================] - 9s 65ms/step - loss: 0.0201 - accuracy: 0.9937 - val_loss: 0.0286 - val_accuracy: 0.9923\n",
      "Epoch 33/100\n",
      "131/131 [==============================] - 10s 73ms/step - loss: 0.0211 - accuracy: 0.9932 - val_loss: 0.0249 - val_accuracy: 0.9929\n",
      "Epoch 34/100\n",
      "131/131 [==============================] - 9s 65ms/step - loss: 0.0204 - accuracy: 0.9933 - val_loss: 0.0258 - val_accuracy: 0.9924\n",
      "Epoch 35/100\n",
      "131/131 [==============================] - 9s 69ms/step - loss: 0.0233 - accuracy: 0.9931 - val_loss: 0.0277 - val_accuracy: 0.9926\n",
      "Epoch 36/100\n",
      "131/131 [==============================] - 9s 67ms/step - loss: 0.0205 - accuracy: 0.9933 - val_loss: 0.0232 - val_accuracy: 0.9938\n",
      "Epoch 37/100\n",
      "131/131 [==============================] - 8s 63ms/step - loss: 0.0229 - accuracy: 0.9930 - val_loss: 0.0230 - val_accuracy: 0.9942\n",
      "Epoch 38/100\n",
      "131/131 [==============================] - 9s 66ms/step - loss: 0.0209 - accuracy: 0.9934 - val_loss: 0.0323 - val_accuracy: 0.9914\n",
      "Epoch 39/100\n",
      "131/131 [==============================] - 9s 65ms/step - loss: 0.0186 - accuracy: 0.9942 - val_loss: 0.0276 - val_accuracy: 0.9932\n",
      "Epoch 40/100\n",
      "131/131 [==============================] - 9s 72ms/step - loss: 0.0187 - accuracy: 0.9938 - val_loss: 0.0313 - val_accuracy: 0.9919\n",
      "Epoch 41/100\n",
      "131/131 [==============================] - 9s 72ms/step - loss: 0.0201 - accuracy: 0.9936 - val_loss: 0.0245 - val_accuracy: 0.9939\n",
      "Epoch 42/100\n",
      "131/131 [==============================] - 9s 68ms/step - loss: 0.0170 - accuracy: 0.9946 - val_loss: 0.0236 - val_accuracy: 0.9935\n",
      "Epoch 43/100\n",
      "131/131 [==============================] - 9s 67ms/step - loss: 0.0165 - accuracy: 0.9945 - val_loss: 0.0286 - val_accuracy: 0.9925\n",
      "Epoch 44/100\n",
      "131/131 [==============================] - 8s 62ms/step - loss: 0.0155 - accuracy: 0.9949 - val_loss: 0.0238 - val_accuracy: 0.9936\n",
      "Epoch 45/100\n",
      "131/131 [==============================] - 9s 69ms/step - loss: 0.0156 - accuracy: 0.9952 - val_loss: 0.0224 - val_accuracy: 0.9942\n",
      "Epoch 46/100\n",
      "131/131 [==============================] - 8s 65ms/step - loss: 0.0185 - accuracy: 0.9940 - val_loss: 0.0286 - val_accuracy: 0.9927\n",
      "Epoch 47/100\n",
      "131/131 [==============================] - 10s 73ms/step - loss: 0.0183 - accuracy: 0.9941 - val_loss: 0.0243 - val_accuracy: 0.9940\n",
      "Epoch 48/100\n",
      "131/131 [==============================] - 9s 70ms/step - loss: 0.0178 - accuracy: 0.9941 - val_loss: 0.0299 - val_accuracy: 0.9925\n",
      "Epoch 49/100\n",
      "131/131 [==============================] - 8s 64ms/step - loss: 0.0157 - accuracy: 0.9954 - val_loss: 0.0256 - val_accuracy: 0.9938\n",
      "Epoch 50/100\n",
      "131/131 [==============================] - 9s 68ms/step - loss: 0.0162 - accuracy: 0.9946 - val_loss: 0.0179 - val_accuracy: 0.9964\n",
      "Epoch 51/100\n",
      "131/131 [==============================] - 8s 64ms/step - loss: 0.0166 - accuracy: 0.9945 - val_loss: 0.0232 - val_accuracy: 0.9932\n",
      "Epoch 52/100\n",
      "131/131 [==============================] - 9s 68ms/step - loss: 0.0154 - accuracy: 0.9954 - val_loss: 0.0204 - val_accuracy: 0.9942\n",
      "Epoch 53/100\n",
      "131/131 [==============================] - 8s 64ms/step - loss: 0.0161 - accuracy: 0.9954 - val_loss: 0.0231 - val_accuracy: 0.9938\n",
      "Epoch 54/100\n",
      "131/131 [==============================] - 9s 70ms/step - loss: 0.0178 - accuracy: 0.9948 - val_loss: 0.0227 - val_accuracy: 0.9935\n",
      "Epoch 55/100\n",
      "131/131 [==============================] - 8s 64ms/step - loss: 0.0150 - accuracy: 0.9951 - val_loss: 0.0275 - val_accuracy: 0.9927\n",
      "Epoch 56/100\n",
      "131/131 [==============================] - 9s 68ms/step - loss: 0.0158 - accuracy: 0.9948 - val_loss: 0.0290 - val_accuracy: 0.9926\n",
      "Epoch 57/100\n",
      "131/131 [==============================] - 9s 67ms/step - loss: 0.0166 - accuracy: 0.9948 - val_loss: 0.0280 - val_accuracy: 0.9933\n",
      "Epoch 58/100\n",
      "131/131 [==============================] - 9s 72ms/step - loss: 0.0139 - accuracy: 0.9957 - val_loss: 0.0211 - val_accuracy: 0.9945\n",
      "Epoch 59/100\n",
      "131/131 [==============================] - 9s 66ms/step - loss: 0.0137 - accuracy: 0.9955 - val_loss: 0.0220 - val_accuracy: 0.9933\n",
      "Epoch 60/100\n",
      "131/131 [==============================] - 8s 64ms/step - loss: 0.0132 - accuracy: 0.9963 - val_loss: 0.0228 - val_accuracy: 0.9932\n",
      "Epoch 61/100\n",
      "131/131 [==============================] - 9s 66ms/step - loss: 0.0128 - accuracy: 0.9957 - val_loss: 0.0237 - val_accuracy: 0.9939\n",
      "Epoch 62/100\n",
      "131/131 [==============================] - 10s 73ms/step - loss: 0.0121 - accuracy: 0.9957 - val_loss: 0.0219 - val_accuracy: 0.9948\n",
      "Epoch 63/100\n",
      "131/131 [==============================] - 8s 64ms/step - loss: 0.0114 - accuracy: 0.9963 - val_loss: 0.0288 - val_accuracy: 0.9926\n",
      "Epoch 64/100\n",
      "131/131 [==============================] - 9s 66ms/step - loss: 0.0129 - accuracy: 0.9955 - val_loss: 0.0234 - val_accuracy: 0.9938\n",
      "Epoch 65/100\n",
      "131/131 [==============================] - 8s 62ms/step - loss: 0.0123 - accuracy: 0.9960 - val_loss: 0.0268 - val_accuracy: 0.9929\n",
      "Epoch 66/100\n",
      "131/131 [==============================] - 8s 62ms/step - loss: 0.0145 - accuracy: 0.9952 - val_loss: 0.0273 - val_accuracy: 0.9933\n",
      "Epoch 67/100\n",
      "131/131 [==============================] - 9s 69ms/step - loss: 0.0115 - accuracy: 0.9964 - val_loss: 0.0227 - val_accuracy: 0.9937\n",
      "Epoch 68/100\n",
      "131/131 [==============================] - 8s 63ms/step - loss: 0.0127 - accuracy: 0.9959 - val_loss: 0.0218 - val_accuracy: 0.9938\n",
      "Epoch 69/100\n",
      "131/131 [==============================] - 10s 73ms/step - loss: 0.0129 - accuracy: 0.9954 - val_loss: 0.0245 - val_accuracy: 0.9933\n",
      "Epoch 70/100\n",
      "131/131 [==============================] - 9s 70ms/step - loss: 0.0160 - accuracy: 0.9948 - val_loss: 0.0243 - val_accuracy: 0.9937\n",
      "Epoch 71/100\n",
      "131/131 [==============================] - 9s 69ms/step - loss: 0.0116 - accuracy: 0.9958 - val_loss: 0.0180 - val_accuracy: 0.9948\n",
      "Epoch 72/100\n",
      "131/131 [==============================] - 8s 64ms/step - loss: 0.0123 - accuracy: 0.9959 - val_loss: 0.0246 - val_accuracy: 0.9938\n",
      "Epoch 73/100\n",
      "131/131 [==============================] - 8s 64ms/step - loss: 0.0125 - accuracy: 0.9961 - val_loss: 0.0217 - val_accuracy: 0.9951\n",
      "Epoch 74/100\n",
      "131/131 [==============================] - 8s 62ms/step - loss: 0.0159 - accuracy: 0.9951 - val_loss: 0.0234 - val_accuracy: 0.9933\n",
      "Epoch 75/100\n",
      "131/131 [==============================] - 8s 61ms/step - loss: 0.0115 - accuracy: 0.9963 - val_loss: 0.0221 - val_accuracy: 0.9944\n",
      "Epoch 76/100\n",
      "131/131 [==============================] - 9s 65ms/step - loss: 0.0128 - accuracy: 0.9955 - val_loss: 0.0213 - val_accuracy: 0.9942\n",
      "Epoch 77/100\n",
      "131/131 [==============================] - 9s 67ms/step - loss: 0.0096 - accuracy: 0.9966 - val_loss: 0.0216 - val_accuracy: 0.9950\n",
      "Epoch 78/100\n",
      "131/131 [==============================] - 8s 65ms/step - loss: 0.0105 - accuracy: 0.9968 - val_loss: 0.0206 - val_accuracy: 0.9945\n",
      "Epoch 79/100\n",
      "131/131 [==============================] - 9s 68ms/step - loss: 0.0121 - accuracy: 0.9957 - val_loss: 0.0238 - val_accuracy: 0.9932\n",
      "Epoch 80/100\n",
      "131/131 [==============================] - 9s 72ms/step - loss: 0.0118 - accuracy: 0.9963 - val_loss: 0.0233 - val_accuracy: 0.9939\n",
      "Epoch 81/100\n",
      "131/131 [==============================] - 8s 64ms/step - loss: 0.0115 - accuracy: 0.9961 - val_loss: 0.0250 - val_accuracy: 0.9921\n",
      "Epoch 82/100\n",
      "131/131 [==============================] - 8s 64ms/step - loss: 0.0125 - accuracy: 0.9960 - val_loss: 0.0235 - val_accuracy: 0.9938\n",
      "Epoch 83/100\n",
      "131/131 [==============================] - 10s 75ms/step - loss: 0.0099 - accuracy: 0.9968 - val_loss: 0.0196 - val_accuracy: 0.9951\n",
      "Epoch 84/100\n",
      "131/131 [==============================] - 8s 63ms/step - loss: 0.0104 - accuracy: 0.9968 - val_loss: 0.0208 - val_accuracy: 0.9942\n",
      "Epoch 85/100\n",
      "131/131 [==============================] - 8s 62ms/step - loss: 0.0105 - accuracy: 0.9966 - val_loss: 0.0296 - val_accuracy: 0.9925\n",
      "Epoch 86/100\n",
      "131/131 [==============================] - 9s 70ms/step - loss: 0.0104 - accuracy: 0.9965 - val_loss: 0.0257 - val_accuracy: 0.9936\n",
      "Epoch 87/100\n",
      "131/131 [==============================] - 9s 66ms/step - loss: 0.0104 - accuracy: 0.9968 - val_loss: 0.0234 - val_accuracy: 0.9946\n",
      "Epoch 88/100\n",
      "131/131 [==============================] - 8s 64ms/step - loss: 0.0100 - accuracy: 0.9966 - val_loss: 0.0212 - val_accuracy: 0.9948\n",
      "Epoch 89/100\n",
      "131/131 [==============================] - 8s 64ms/step - loss: 0.0103 - accuracy: 0.9964 - val_loss: 0.0242 - val_accuracy: 0.9943\n",
      "Epoch 90/100\n",
      "131/131 [==============================] - 10s 73ms/step - loss: 0.0109 - accuracy: 0.9963 - val_loss: 0.0241 - val_accuracy: 0.9933\n",
      "Epoch 91/100\n",
      "131/131 [==============================] - 8s 64ms/step - loss: 0.0084 - accuracy: 0.9974 - val_loss: 0.0240 - val_accuracy: 0.9939\n",
      "Epoch 92/100\n",
      "131/131 [==============================] - 8s 61ms/step - loss: 0.0112 - accuracy: 0.9962 - val_loss: 0.0299 - val_accuracy: 0.9939\n",
      "Epoch 93/100\n",
      "131/131 [==============================] - 10s 79ms/step - loss: 0.0109 - accuracy: 0.9967 - val_loss: 0.0214 - val_accuracy: 0.9944\n",
      "Epoch 94/100\n",
      "131/131 [==============================] - 9s 68ms/step - loss: 0.0100 - accuracy: 0.9967 - val_loss: 0.0258 - val_accuracy: 0.9943\n",
      "Epoch 95/100\n",
      "131/131 [==============================] - 10s 73ms/step - loss: 0.0098 - accuracy: 0.9967 - val_loss: 0.0233 - val_accuracy: 0.9948\n",
      "Epoch 96/100\n",
      "131/131 [==============================] - 9s 68ms/step - loss: 0.0101 - accuracy: 0.9966 - val_loss: 0.0251 - val_accuracy: 0.9943\n",
      "Epoch 97/100\n",
      "131/131 [==============================] - 8s 64ms/step - loss: 0.0085 - accuracy: 0.9975 - val_loss: 0.0282 - val_accuracy: 0.9932\n",
      "Epoch 98/100\n",
      "131/131 [==============================] - 8s 61ms/step - loss: 0.0089 - accuracy: 0.9970 - val_loss: 0.0228 - val_accuracy: 0.9944\n",
      "Epoch 99/100\n",
      "131/131 [==============================] - 9s 69ms/step - loss: 0.0098 - accuracy: 0.9971 - val_loss: 0.0270 - val_accuracy: 0.9944\n",
      "Epoch 100/100\n",
      "131/131 [==============================] - 9s 68ms/step - loss: 0.0086 - accuracy: 0.9972 - val_loss: 0.0265 - val_accuracy: 0.9943\n"
     ]
    },
    {
     "data": {
      "text/plain": [
       "<keras.callbacks.History at 0x7fcf7cb11e10>"
      ]
     },
     "execution_count": 5,
     "metadata": {},
     "output_type": "execute_result"
    }
   ],
   "source": [
    "# train our model\n",
    "lr_model.fit_generator(\n",
    "    mnist_datagen.flow(x_train_splitted, y_train_splitted, batch_size = prefered_batch_size),\n",
    "    verbose = 1,\n",
    "    epochs = 100,\n",
    "    steps_per_epoch= x_train_splitted.shape[0] // prefered_batch_size,\n",
    "    validation_data = (x_test_splitted, y_test_splitted),    \n",
    ")"
   ]
  },
  {
   "cell_type": "code",
   "execution_count": 6,
   "id": "fdd34da3",
   "metadata": {
    "execution": {
     "iopub.execute_input": "2022-06-16T08:14:34.107723Z",
     "iopub.status.busy": "2022-06-16T08:14:34.107295Z",
     "iopub.status.idle": "2022-06-16T08:14:37.015650Z",
     "shell.execute_reply": "2022-06-16T08:14:37.014811Z"
    },
    "papermill": {
     "duration": 3.692036,
     "end_time": "2022-06-16T08:14:37.017425",
     "exception": false,
     "start_time": "2022-06-16T08:14:33.325389",
     "status": "completed"
    },
    "tags": []
   },
   "outputs": [
    {
     "data": {
      "text/plain": [
       "array([2, 0, 9, 0, 3, 7, 0, 3, 0, 3])"
      ]
     },
     "execution_count": 6,
     "metadata": {},
     "output_type": "execute_result"
    }
   ],
   "source": [
    "# predict classes\n",
    "y_preds = lr_model.predict(x_test)\n",
    "y_preds_classified = np.argmax(y_preds, axis=1)\n",
    "y_preds_classified[:10]"
   ]
  },
  {
   "cell_type": "code",
   "execution_count": 7,
   "id": "a57be0b0",
   "metadata": {
    "execution": {
     "iopub.execute_input": "2022-06-16T08:14:38.628814Z",
     "iopub.status.busy": "2022-06-16T08:14:38.628442Z",
     "iopub.status.idle": "2022-06-16T08:14:38.688263Z",
     "shell.execute_reply": "2022-06-16T08:14:38.687440Z"
    },
    "papermill": {
     "duration": 0.848427,
     "end_time": "2022-06-16T08:14:38.690387",
     "exception": false,
     "start_time": "2022-06-16T08:14:37.841960",
     "status": "completed"
    },
    "tags": []
   },
   "outputs": [],
   "source": [
    "# upload results \n",
    "out_df['Label'] = y_preds_classified\n",
    "out_df.to_csv('outer.csv')"
   ]
  },
  {
   "cell_type": "code",
   "execution_count": null,
   "id": "f300822c",
   "metadata": {
    "papermill": {
     "duration": 0.772824,
     "end_time": "2022-06-16T08:14:40.287712",
     "exception": false,
     "start_time": "2022-06-16T08:14:39.514888",
     "status": "completed"
    },
    "tags": []
   },
   "outputs": [],
   "source": []
  }
 ],
 "metadata": {
  "kernelspec": {
   "display_name": "Python 3 (ipykernel)",
   "language": "python",
   "name": "python3"
  },
  "language_info": {
   "codemirror_mode": {
    "name": "ipython",
    "version": 3
   },
   "file_extension": ".py",
   "mimetype": "text/x-python",
   "name": "python",
   "nbconvert_exporter": "python",
   "pygments_lexer": "ipython3",
   "version": "3.9.13"
  },
  "papermill": {
   "default_parameters": {},
   "duration": 1009.004477,
   "end_time": "2022-06-16T08:14:43.961839",
   "environment_variables": {},
   "exception": null,
   "input_path": "__notebook__.ipynb",
   "output_path": "__notebook__.ipynb",
   "parameters": {},
   "start_time": "2022-06-16T07:57:54.957362",
   "version": "2.3.4"
  },
  "varInspector": {
   "cols": {
    "lenName": 16,
    "lenType": 16,
    "lenVar": 40
   },
   "kernels_config": {
    "python": {
     "delete_cmd_postfix": "",
     "delete_cmd_prefix": "del ",
     "library": "var_list.py",
     "varRefreshCmd": "print(var_dic_list())"
    },
    "r": {
     "delete_cmd_postfix": ") ",
     "delete_cmd_prefix": "rm(",
     "library": "var_list.r",
     "varRefreshCmd": "cat(var_dic_list()) "
    }
   },
   "types_to_exclude": [
    "module",
    "function",
    "builtin_function_or_method",
    "instance",
    "_Feature"
   ],
   "window_display": false
  }
 },
 "nbformat": 4,
 "nbformat_minor": 5
}
